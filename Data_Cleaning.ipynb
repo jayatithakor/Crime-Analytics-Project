{
 "cells": [
  {
   "cell_type": "markdown",
   "metadata": {},
   "source": [
    "# Data cleaning and transformation  \n",
    "This notebook deals with cleaning the dataset and transforming it for modelling.  \n",
    "As usual we will start by importing libraries"
   ]
  },
  {
   "cell_type": "code",
   "execution_count": 1,
   "metadata": {},
   "outputs": [],
   "source": [
    "import seaborn as sns\n",
    "import numpy as np\n",
    "import pandas as pd\n",
    "import matplotlib.pyplot as plt\n"
   ]
  },
  {
   "cell_type": "markdown",
   "metadata": {},
   "source": [
    "Reading in the Data for the Case Level information."
   ]
  },
  {
   "cell_type": "code",
   "execution_count": 2,
   "metadata": {},
   "outputs": [
    {
     "name": "stderr",
     "output_type": "stream",
     "text": [
      "/Users/J/opt/anaconda3/lib/python3.7/site-packages/IPython/core/interactiveshell.py:3058: DtypeWarning: Columns (16) have mixed types. Specify dtype option on import or set low_memory=False.\n",
      "  interactivity=interactivity, compiler=compiler, result=result)\n"
     ]
    },
    {
     "name": "stdout",
     "output_type": "stream",
     "text": [
      "(638454, 24)\n"
     ]
    }
   ],
   "source": [
    "df=pd.read_csv('data/database.csv')\n",
    "print(df.shape)"
   ]
  },
  {
   "cell_type": "markdown",
   "metadata": {},
   "source": [
    "Lets see what out dataset Looks like. We transposed it so we could see all the column names."
   ]
  },
  {
   "cell_type": "code",
   "execution_count": 3,
   "metadata": {},
   "outputs": [
    {
     "data": {
      "text/html": [
       "<div>\n",
       "<style scoped>\n",
       "    .dataframe tbody tr th:only-of-type {\n",
       "        vertical-align: middle;\n",
       "    }\n",
       "\n",
       "    .dataframe tbody tr th {\n",
       "        vertical-align: top;\n",
       "    }\n",
       "\n",
       "    .dataframe thead th {\n",
       "        text-align: right;\n",
       "    }\n",
       "</style>\n",
       "<table border=\"1\" class=\"dataframe\">\n",
       "  <thead>\n",
       "    <tr style=\"text-align: right;\">\n",
       "      <th></th>\n",
       "      <th>0</th>\n",
       "      <th>1</th>\n",
       "      <th>2</th>\n",
       "      <th>3</th>\n",
       "      <th>4</th>\n",
       "    </tr>\n",
       "  </thead>\n",
       "  <tbody>\n",
       "    <tr>\n",
       "      <td>Record ID</td>\n",
       "      <td>1</td>\n",
       "      <td>2</td>\n",
       "      <td>3</td>\n",
       "      <td>4</td>\n",
       "      <td>5</td>\n",
       "    </tr>\n",
       "    <tr>\n",
       "      <td>Agency Code</td>\n",
       "      <td>AK00101</td>\n",
       "      <td>AK00101</td>\n",
       "      <td>AK00101</td>\n",
       "      <td>AK00101</td>\n",
       "      <td>AK00101</td>\n",
       "    </tr>\n",
       "    <tr>\n",
       "      <td>Agency Name</td>\n",
       "      <td>Anchorage</td>\n",
       "      <td>Anchorage</td>\n",
       "      <td>Anchorage</td>\n",
       "      <td>Anchorage</td>\n",
       "      <td>Anchorage</td>\n",
       "    </tr>\n",
       "    <tr>\n",
       "      <td>Agency Type</td>\n",
       "      <td>Municipal Police</td>\n",
       "      <td>Municipal Police</td>\n",
       "      <td>Municipal Police</td>\n",
       "      <td>Municipal Police</td>\n",
       "      <td>Municipal Police</td>\n",
       "    </tr>\n",
       "    <tr>\n",
       "      <td>City</td>\n",
       "      <td>Anchorage</td>\n",
       "      <td>Anchorage</td>\n",
       "      <td>Anchorage</td>\n",
       "      <td>Anchorage</td>\n",
       "      <td>Anchorage</td>\n",
       "    </tr>\n",
       "    <tr>\n",
       "      <td>State</td>\n",
       "      <td>Alaska</td>\n",
       "      <td>Alaska</td>\n",
       "      <td>Alaska</td>\n",
       "      <td>Alaska</td>\n",
       "      <td>Alaska</td>\n",
       "    </tr>\n",
       "    <tr>\n",
       "      <td>Year</td>\n",
       "      <td>1980</td>\n",
       "      <td>1980</td>\n",
       "      <td>1980</td>\n",
       "      <td>1980</td>\n",
       "      <td>1980</td>\n",
       "    </tr>\n",
       "    <tr>\n",
       "      <td>Month</td>\n",
       "      <td>January</td>\n",
       "      <td>March</td>\n",
       "      <td>March</td>\n",
       "      <td>April</td>\n",
       "      <td>April</td>\n",
       "    </tr>\n",
       "    <tr>\n",
       "      <td>Incident</td>\n",
       "      <td>1</td>\n",
       "      <td>1</td>\n",
       "      <td>2</td>\n",
       "      <td>1</td>\n",
       "      <td>2</td>\n",
       "    </tr>\n",
       "    <tr>\n",
       "      <td>Crime Type</td>\n",
       "      <td>Murder or Manslaughter</td>\n",
       "      <td>Murder or Manslaughter</td>\n",
       "      <td>Murder or Manslaughter</td>\n",
       "      <td>Murder or Manslaughter</td>\n",
       "      <td>Murder or Manslaughter</td>\n",
       "    </tr>\n",
       "    <tr>\n",
       "      <td>Crime Solved</td>\n",
       "      <td>Yes</td>\n",
       "      <td>Yes</td>\n",
       "      <td>No</td>\n",
       "      <td>Yes</td>\n",
       "      <td>No</td>\n",
       "    </tr>\n",
       "    <tr>\n",
       "      <td>Victim Sex</td>\n",
       "      <td>Male</td>\n",
       "      <td>Male</td>\n",
       "      <td>Female</td>\n",
       "      <td>Male</td>\n",
       "      <td>Female</td>\n",
       "    </tr>\n",
       "    <tr>\n",
       "      <td>Victim Age</td>\n",
       "      <td>14</td>\n",
       "      <td>43</td>\n",
       "      <td>30</td>\n",
       "      <td>43</td>\n",
       "      <td>30</td>\n",
       "    </tr>\n",
       "    <tr>\n",
       "      <td>Victim Race</td>\n",
       "      <td>Native American/Alaska Native</td>\n",
       "      <td>White</td>\n",
       "      <td>Native American/Alaska Native</td>\n",
       "      <td>White</td>\n",
       "      <td>Native American/Alaska Native</td>\n",
       "    </tr>\n",
       "    <tr>\n",
       "      <td>Victim Ethnicity</td>\n",
       "      <td>Unknown</td>\n",
       "      <td>Unknown</td>\n",
       "      <td>Unknown</td>\n",
       "      <td>Unknown</td>\n",
       "      <td>Unknown</td>\n",
       "    </tr>\n",
       "    <tr>\n",
       "      <td>Perpetrator Sex</td>\n",
       "      <td>Male</td>\n",
       "      <td>Male</td>\n",
       "      <td>Unknown</td>\n",
       "      <td>Male</td>\n",
       "      <td>Unknown</td>\n",
       "    </tr>\n",
       "    <tr>\n",
       "      <td>Perpetrator Age</td>\n",
       "      <td>15</td>\n",
       "      <td>42</td>\n",
       "      <td>0</td>\n",
       "      <td>42</td>\n",
       "      <td>0</td>\n",
       "    </tr>\n",
       "    <tr>\n",
       "      <td>Perpetrator Race</td>\n",
       "      <td>Native American/Alaska Native</td>\n",
       "      <td>White</td>\n",
       "      <td>Unknown</td>\n",
       "      <td>White</td>\n",
       "      <td>Unknown</td>\n",
       "    </tr>\n",
       "    <tr>\n",
       "      <td>Perpetrator Ethnicity</td>\n",
       "      <td>Unknown</td>\n",
       "      <td>Unknown</td>\n",
       "      <td>Unknown</td>\n",
       "      <td>Unknown</td>\n",
       "      <td>Unknown</td>\n",
       "    </tr>\n",
       "    <tr>\n",
       "      <td>Relationship</td>\n",
       "      <td>Acquaintance</td>\n",
       "      <td>Acquaintance</td>\n",
       "      <td>Unknown</td>\n",
       "      <td>Acquaintance</td>\n",
       "      <td>Unknown</td>\n",
       "    </tr>\n",
       "    <tr>\n",
       "      <td>Weapon</td>\n",
       "      <td>Blunt Object</td>\n",
       "      <td>Strangulation</td>\n",
       "      <td>Unknown</td>\n",
       "      <td>Strangulation</td>\n",
       "      <td>Unknown</td>\n",
       "    </tr>\n",
       "    <tr>\n",
       "      <td>Victim Count</td>\n",
       "      <td>0</td>\n",
       "      <td>0</td>\n",
       "      <td>0</td>\n",
       "      <td>0</td>\n",
       "      <td>0</td>\n",
       "    </tr>\n",
       "    <tr>\n",
       "      <td>Perpetrator Count</td>\n",
       "      <td>0</td>\n",
       "      <td>0</td>\n",
       "      <td>0</td>\n",
       "      <td>0</td>\n",
       "      <td>1</td>\n",
       "    </tr>\n",
       "    <tr>\n",
       "      <td>Record Source</td>\n",
       "      <td>FBI</td>\n",
       "      <td>FBI</td>\n",
       "      <td>FBI</td>\n",
       "      <td>FBI</td>\n",
       "      <td>FBI</td>\n",
       "    </tr>\n",
       "  </tbody>\n",
       "</table>\n",
       "</div>"
      ],
      "text/plain": [
       "                                                   0                       1  \\\n",
       "Record ID                                          1                       2   \n",
       "Agency Code                                  AK00101                 AK00101   \n",
       "Agency Name                                Anchorage               Anchorage   \n",
       "Agency Type                         Municipal Police        Municipal Police   \n",
       "City                                       Anchorage               Anchorage   \n",
       "State                                         Alaska                  Alaska   \n",
       "Year                                            1980                    1980   \n",
       "Month                                        January                   March   \n",
       "Incident                                           1                       1   \n",
       "Crime Type                    Murder or Manslaughter  Murder or Manslaughter   \n",
       "Crime Solved                                     Yes                     Yes   \n",
       "Victim Sex                                      Male                    Male   \n",
       "Victim Age                                        14                      43   \n",
       "Victim Race            Native American/Alaska Native                   White   \n",
       "Victim Ethnicity                             Unknown                 Unknown   \n",
       "Perpetrator Sex                                 Male                    Male   \n",
       "Perpetrator Age                                   15                      42   \n",
       "Perpetrator Race       Native American/Alaska Native                   White   \n",
       "Perpetrator Ethnicity                        Unknown                 Unknown   \n",
       "Relationship                            Acquaintance            Acquaintance   \n",
       "Weapon                                  Blunt Object           Strangulation   \n",
       "Victim Count                                       0                       0   \n",
       "Perpetrator Count                                  0                       0   \n",
       "Record Source                                    FBI                     FBI   \n",
       "\n",
       "                                                   2                       3  \\\n",
       "Record ID                                          3                       4   \n",
       "Agency Code                                  AK00101                 AK00101   \n",
       "Agency Name                                Anchorage               Anchorage   \n",
       "Agency Type                         Municipal Police        Municipal Police   \n",
       "City                                       Anchorage               Anchorage   \n",
       "State                                         Alaska                  Alaska   \n",
       "Year                                            1980                    1980   \n",
       "Month                                          March                   April   \n",
       "Incident                                           2                       1   \n",
       "Crime Type                    Murder or Manslaughter  Murder or Manslaughter   \n",
       "Crime Solved                                      No                     Yes   \n",
       "Victim Sex                                    Female                    Male   \n",
       "Victim Age                                        30                      43   \n",
       "Victim Race            Native American/Alaska Native                   White   \n",
       "Victim Ethnicity                             Unknown                 Unknown   \n",
       "Perpetrator Sex                              Unknown                    Male   \n",
       "Perpetrator Age                                    0                      42   \n",
       "Perpetrator Race                             Unknown                   White   \n",
       "Perpetrator Ethnicity                        Unknown                 Unknown   \n",
       "Relationship                                 Unknown            Acquaintance   \n",
       "Weapon                                       Unknown           Strangulation   \n",
       "Victim Count                                       0                       0   \n",
       "Perpetrator Count                                  0                       0   \n",
       "Record Source                                    FBI                     FBI   \n",
       "\n",
       "                                                   4  \n",
       "Record ID                                          5  \n",
       "Agency Code                                  AK00101  \n",
       "Agency Name                                Anchorage  \n",
       "Agency Type                         Municipal Police  \n",
       "City                                       Anchorage  \n",
       "State                                         Alaska  \n",
       "Year                                            1980  \n",
       "Month                                          April  \n",
       "Incident                                           2  \n",
       "Crime Type                    Murder or Manslaughter  \n",
       "Crime Solved                                      No  \n",
       "Victim Sex                                    Female  \n",
       "Victim Age                                        30  \n",
       "Victim Race            Native American/Alaska Native  \n",
       "Victim Ethnicity                             Unknown  \n",
       "Perpetrator Sex                              Unknown  \n",
       "Perpetrator Age                                    0  \n",
       "Perpetrator Race                             Unknown  \n",
       "Perpetrator Ethnicity                        Unknown  \n",
       "Relationship                                 Unknown  \n",
       "Weapon                                       Unknown  \n",
       "Victim Count                                       0  \n",
       "Perpetrator Count                                  1  \n",
       "Record Source                                    FBI  "
      ]
     },
     "execution_count": 3,
     "metadata": {},
     "output_type": "execute_result"
    }
   ],
   "source": [
    "df.head(5).transpose()"
   ]
  },
  {
   "cell_type": "markdown",
   "metadata": {},
   "source": [
    "Df.info shows us the datatypes of our columns."
   ]
  },
  {
   "cell_type": "code",
   "execution_count": 4,
   "metadata": {},
   "outputs": [
    {
     "name": "stdout",
     "output_type": "stream",
     "text": [
      "<class 'pandas.core.frame.DataFrame'>\n",
      "RangeIndex: 638454 entries, 0 to 638453\n",
      "Data columns (total 24 columns):\n",
      "Record ID                638454 non-null int64\n",
      "Agency Code              638454 non-null object\n",
      "Agency Name              638454 non-null object\n",
      "Agency Type              638454 non-null object\n",
      "City                     638454 non-null object\n",
      "State                    638454 non-null object\n",
      "Year                     638454 non-null int64\n",
      "Month                    638454 non-null object\n",
      "Incident                 638454 non-null int64\n",
      "Crime Type               638454 non-null object\n",
      "Crime Solved             638454 non-null object\n",
      "Victim Sex               638454 non-null object\n",
      "Victim Age               638454 non-null int64\n",
      "Victim Race              638454 non-null object\n",
      "Victim Ethnicity         638454 non-null object\n",
      "Perpetrator Sex          638454 non-null object\n",
      "Perpetrator Age          638454 non-null object\n",
      "Perpetrator Race         638454 non-null object\n",
      "Perpetrator Ethnicity    638454 non-null object\n",
      "Relationship             638454 non-null object\n",
      "Weapon                   638454 non-null object\n",
      "Victim Count             638454 non-null int64\n",
      "Perpetrator Count        638454 non-null int64\n",
      "Record Source            638454 non-null object\n",
      "dtypes: int64(6), object(18)\n",
      "memory usage: 116.9+ MB\n"
     ]
    }
   ],
   "source": [
    "df.info()"
   ]
  },
  {
   "cell_type": "markdown",
   "metadata": {},
   "source": [
    "### Changing columns to numeric\n",
    "As we can see some of these columns can easily be changed to numeric columns  \n",
    "Lets start with the month column and use a dictionary and mapping to turn it to numeric"
   ]
  },
  {
   "cell_type": "code",
   "execution_count": 5,
   "metadata": {},
   "outputs": [
    {
     "name": "stdout",
     "output_type": "stream",
     "text": [
      "<class 'pandas.core.frame.DataFrame'>\n",
      "RangeIndex: 638454 entries, 0 to 638453\n",
      "Data columns (total 24 columns):\n",
      "Record ID                638454 non-null int64\n",
      "Agency Code              638454 non-null object\n",
      "Agency Name              638454 non-null object\n",
      "Agency Type              638454 non-null object\n",
      "City                     638454 non-null object\n",
      "State                    638454 non-null object\n",
      "Year                     638454 non-null int64\n",
      "Month                    638454 non-null int64\n",
      "Incident                 638454 non-null int64\n",
      "Crime Type               638454 non-null object\n",
      "Crime Solved             638454 non-null object\n",
      "Victim Sex               638454 non-null object\n",
      "Victim Age               638454 non-null int64\n",
      "Victim Race              638454 non-null object\n",
      "Victim Ethnicity         638454 non-null object\n",
      "Perpetrator Sex          638454 non-null object\n",
      "Perpetrator Age          638454 non-null object\n",
      "Perpetrator Race         638454 non-null object\n",
      "Perpetrator Ethnicity    638454 non-null object\n",
      "Relationship             638454 non-null object\n",
      "Weapon                   638454 non-null object\n",
      "Victim Count             638454 non-null int64\n",
      "Perpetrator Count        638454 non-null int64\n",
      "Record Source            638454 non-null object\n",
      "dtypes: int64(7), object(17)\n",
      "memory usage: 116.9+ MB\n"
     ]
    }
   ],
   "source": [
    "month = {'01':'January',\n",
    "'02':'February',\n",
    "'03':'March',\n",
    "'04':'April',\n",
    "'05':'May',\n",
    "'06':'June',\n",
    "'07':'July',\n",
    "'08':'August',\n",
    "'09':'September',\n",
    "'10':'October',\n",
    "'11':'November',\n",
    "'12':'December'}\n",
    "#This dictionary needs to be inverted \n",
    "inv_map = {v: k for k, v in month.items()}\n",
    "#mapping \n",
    "df['Month']=df['Month'].map(inv_map)\n",
    "#changing string to integer\n",
    "df['Month']=df['Month'].astype(int)\n",
    "df.info()"
   ]
  },
  {
   "cell_type": "markdown",
   "metadata": {},
   "source": [
    "We can see that the 'Perpetrator Age' column is object type. we will change it to integer."
   ]
  },
  {
   "cell_type": "code",
   "execution_count": 6,
   "metadata": {},
   "outputs": [],
   "source": [
    "df[\"Perpetrator Age\"]=pd.to_numeric(df[\"Perpetrator Age\"],errors='coerce')"
   ]
  },
  {
   "cell_type": "code",
   "execution_count": 7,
   "metadata": {},
   "outputs": [],
   "source": [
    "d = {'No': 0, 'Yes': 1}\n",
    "df['Crime Solved'] = df['Crime Solved'].map(d).fillna(df['Crime Solved'])"
   ]
  },
  {
   "cell_type": "code",
   "execution_count": 8,
   "metadata": {},
   "outputs": [
    {
     "data": {
      "text/html": [
       "<div>\n",
       "<style scoped>\n",
       "    .dataframe tbody tr th:only-of-type {\n",
       "        vertical-align: middle;\n",
       "    }\n",
       "\n",
       "    .dataframe tbody tr th {\n",
       "        vertical-align: top;\n",
       "    }\n",
       "\n",
       "    .dataframe thead th {\n",
       "        text-align: right;\n",
       "    }\n",
       "</style>\n",
       "<table border=\"1\" class=\"dataframe\">\n",
       "  <thead>\n",
       "    <tr style=\"text-align: right;\">\n",
       "      <th></th>\n",
       "      <th>Record ID</th>\n",
       "      <th>Year</th>\n",
       "      <th>Month</th>\n",
       "      <th>Incident</th>\n",
       "      <th>Crime Solved</th>\n",
       "      <th>Victim Age</th>\n",
       "      <th>Perpetrator Age</th>\n",
       "      <th>Victim Count</th>\n",
       "      <th>Perpetrator Count</th>\n",
       "    </tr>\n",
       "  </thead>\n",
       "  <tbody>\n",
       "    <tr>\n",
       "      <td>count</td>\n",
       "      <td>638454.00000</td>\n",
       "      <td>638454.000000</td>\n",
       "      <td>638454.000000</td>\n",
       "      <td>638454.000000</td>\n",
       "      <td>638454.000000</td>\n",
       "      <td>638454.000000</td>\n",
       "      <td>638453.000000</td>\n",
       "      <td>638454.000000</td>\n",
       "      <td>638454.000000</td>\n",
       "    </tr>\n",
       "    <tr>\n",
       "      <td>mean</td>\n",
       "      <td>319227.50000</td>\n",
       "      <td>1995.801102</td>\n",
       "      <td>6.585622</td>\n",
       "      <td>22.967924</td>\n",
       "      <td>0.701964</td>\n",
       "      <td>35.033512</td>\n",
       "      <td>20.322697</td>\n",
       "      <td>0.123334</td>\n",
       "      <td>0.185224</td>\n",
       "    </tr>\n",
       "    <tr>\n",
       "      <td>std</td>\n",
       "      <td>184305.93872</td>\n",
       "      <td>9.927693</td>\n",
       "      <td>3.412824</td>\n",
       "      <td>92.149821</td>\n",
       "      <td>0.457396</td>\n",
       "      <td>41.628306</td>\n",
       "      <td>17.886842</td>\n",
       "      <td>0.537733</td>\n",
       "      <td>0.585496</td>\n",
       "    </tr>\n",
       "    <tr>\n",
       "      <td>min</td>\n",
       "      <td>1.00000</td>\n",
       "      <td>1980.000000</td>\n",
       "      <td>1.000000</td>\n",
       "      <td>0.000000</td>\n",
       "      <td>0.000000</td>\n",
       "      <td>0.000000</td>\n",
       "      <td>0.000000</td>\n",
       "      <td>0.000000</td>\n",
       "      <td>0.000000</td>\n",
       "    </tr>\n",
       "    <tr>\n",
       "      <td>25%</td>\n",
       "      <td>159614.25000</td>\n",
       "      <td>1987.000000</td>\n",
       "      <td>4.000000</td>\n",
       "      <td>1.000000</td>\n",
       "      <td>0.000000</td>\n",
       "      <td>22.000000</td>\n",
       "      <td>0.000000</td>\n",
       "      <td>0.000000</td>\n",
       "      <td>0.000000</td>\n",
       "    </tr>\n",
       "    <tr>\n",
       "      <td>50%</td>\n",
       "      <td>319227.50000</td>\n",
       "      <td>1995.000000</td>\n",
       "      <td>7.000000</td>\n",
       "      <td>2.000000</td>\n",
       "      <td>1.000000</td>\n",
       "      <td>30.000000</td>\n",
       "      <td>21.000000</td>\n",
       "      <td>0.000000</td>\n",
       "      <td>0.000000</td>\n",
       "    </tr>\n",
       "    <tr>\n",
       "      <td>75%</td>\n",
       "      <td>478840.75000</td>\n",
       "      <td>2004.000000</td>\n",
       "      <td>9.000000</td>\n",
       "      <td>10.000000</td>\n",
       "      <td>1.000000</td>\n",
       "      <td>42.000000</td>\n",
       "      <td>31.000000</td>\n",
       "      <td>0.000000</td>\n",
       "      <td>0.000000</td>\n",
       "    </tr>\n",
       "    <tr>\n",
       "      <td>max</td>\n",
       "      <td>638454.00000</td>\n",
       "      <td>2014.000000</td>\n",
       "      <td>12.000000</td>\n",
       "      <td>999.000000</td>\n",
       "      <td>1.000000</td>\n",
       "      <td>998.000000</td>\n",
       "      <td>99.000000</td>\n",
       "      <td>10.000000</td>\n",
       "      <td>10.000000</td>\n",
       "    </tr>\n",
       "  </tbody>\n",
       "</table>\n",
       "</div>"
      ],
      "text/plain": [
       "          Record ID           Year          Month       Incident  \\\n",
       "count  638454.00000  638454.000000  638454.000000  638454.000000   \n",
       "mean   319227.50000    1995.801102       6.585622      22.967924   \n",
       "std    184305.93872       9.927693       3.412824      92.149821   \n",
       "min         1.00000    1980.000000       1.000000       0.000000   \n",
       "25%    159614.25000    1987.000000       4.000000       1.000000   \n",
       "50%    319227.50000    1995.000000       7.000000       2.000000   \n",
       "75%    478840.75000    2004.000000       9.000000      10.000000   \n",
       "max    638454.00000    2014.000000      12.000000     999.000000   \n",
       "\n",
       "        Crime Solved     Victim Age  Perpetrator Age   Victim Count  \\\n",
       "count  638454.000000  638454.000000    638453.000000  638454.000000   \n",
       "mean        0.701964      35.033512        20.322697       0.123334   \n",
       "std         0.457396      41.628306        17.886842       0.537733   \n",
       "min         0.000000       0.000000         0.000000       0.000000   \n",
       "25%         0.000000      22.000000         0.000000       0.000000   \n",
       "50%         1.000000      30.000000        21.000000       0.000000   \n",
       "75%         1.000000      42.000000        31.000000       0.000000   \n",
       "max         1.000000     998.000000        99.000000      10.000000   \n",
       "\n",
       "       Perpetrator Count  \n",
       "count      638454.000000  \n",
       "mean            0.185224  \n",
       "std             0.585496  \n",
       "min             0.000000  \n",
       "25%             0.000000  \n",
       "50%             0.000000  \n",
       "75%             0.000000  \n",
       "max            10.000000  "
      ]
     },
     "execution_count": 8,
     "metadata": {},
     "output_type": "execute_result"
    }
   ],
   "source": [
    "df.describe()"
   ]
  },
  {
   "cell_type": "code",
   "execution_count": 9,
   "metadata": {},
   "outputs": [
    {
     "data": {
      "text/plain": [
       "Record ID                0\n",
       "Agency Code              0\n",
       "Agency Name              0\n",
       "Agency Type              0\n",
       "City                     0\n",
       "State                    0\n",
       "Year                     0\n",
       "Month                    0\n",
       "Incident                 0\n",
       "Crime Type               0\n",
       "Crime Solved             0\n",
       "Victim Sex               0\n",
       "Victim Age               0\n",
       "Victim Race              0\n",
       "Victim Ethnicity         0\n",
       "Perpetrator Sex          0\n",
       "Perpetrator Age          1\n",
       "Perpetrator Race         0\n",
       "Perpetrator Ethnicity    0\n",
       "Relationship             0\n",
       "Weapon                   0\n",
       "Victim Count             0\n",
       "Perpetrator Count        0\n",
       "Record Source            0\n",
       "dtype: int64"
      ]
     },
     "execution_count": 9,
     "metadata": {},
     "output_type": "execute_result"
    }
   ],
   "source": [
    "df.isna().sum()"
   ]
  },
  {
   "cell_type": "code",
   "execution_count": 10,
   "metadata": {},
   "outputs": [
    {
     "data": {
      "text/html": [
       "<div>\n",
       "<style scoped>\n",
       "    .dataframe tbody tr th:only-of-type {\n",
       "        vertical-align: middle;\n",
       "    }\n",
       "\n",
       "    .dataframe tbody tr th {\n",
       "        vertical-align: top;\n",
       "    }\n",
       "\n",
       "    .dataframe thead th {\n",
       "        text-align: right;\n",
       "    }\n",
       "</style>\n",
       "<table border=\"1\" class=\"dataframe\">\n",
       "  <thead>\n",
       "    <tr style=\"text-align: right;\">\n",
       "      <th></th>\n",
       "      <th>Record ID</th>\n",
       "      <th>Agency Code</th>\n",
       "      <th>Agency Name</th>\n",
       "      <th>Agency Type</th>\n",
       "      <th>City</th>\n",
       "      <th>State</th>\n",
       "      <th>Year</th>\n",
       "      <th>Month</th>\n",
       "      <th>Incident</th>\n",
       "      <th>Crime Type</th>\n",
       "      <th>...</th>\n",
       "      <th>Victim Ethnicity</th>\n",
       "      <th>Perpetrator Sex</th>\n",
       "      <th>Perpetrator Age</th>\n",
       "      <th>Perpetrator Race</th>\n",
       "      <th>Perpetrator Ethnicity</th>\n",
       "      <th>Relationship</th>\n",
       "      <th>Weapon</th>\n",
       "      <th>Victim Count</th>\n",
       "      <th>Perpetrator Count</th>\n",
       "      <th>Record Source</th>\n",
       "    </tr>\n",
       "  </thead>\n",
       "  <tbody>\n",
       "    <tr>\n",
       "      <td>634666</td>\n",
       "      <td>634667</td>\n",
       "      <td>OK07205</td>\n",
       "      <td>Tulsa</td>\n",
       "      <td>Municipal Police</td>\n",
       "      <td>Tulsa</td>\n",
       "      <td>Oklahoma</td>\n",
       "      <td>2014</td>\n",
       "      <td>6</td>\n",
       "      <td>104</td>\n",
       "      <td>Murder or Manslaughter</td>\n",
       "      <td>...</td>\n",
       "      <td>Not Hispanic</td>\n",
       "      <td>Unknown</td>\n",
       "      <td>NaN</td>\n",
       "      <td>Unknown</td>\n",
       "      <td>Unknown</td>\n",
       "      <td>Unknown</td>\n",
       "      <td>Handgun</td>\n",
       "      <td>0</td>\n",
       "      <td>0</td>\n",
       "      <td>FBI</td>\n",
       "    </tr>\n",
       "  </tbody>\n",
       "</table>\n",
       "<p>1 rows × 24 columns</p>\n",
       "</div>"
      ],
      "text/plain": [
       "        Record ID Agency Code Agency Name       Agency Type   City     State  \\\n",
       "634666     634667     OK07205       Tulsa  Municipal Police  Tulsa  Oklahoma   \n",
       "\n",
       "        Year  Month  Incident              Crime Type  ...  Victim Ethnicity  \\\n",
       "634666  2014      6       104  Murder or Manslaughter  ...      Not Hispanic   \n",
       "\n",
       "       Perpetrator Sex  Perpetrator Age Perpetrator Race  \\\n",
       "634666         Unknown              NaN          Unknown   \n",
       "\n",
       "       Perpetrator Ethnicity Relationship   Weapon Victim Count  \\\n",
       "634666               Unknown      Unknown  Handgun            0   \n",
       "\n",
       "       Perpetrator Count Record Source  \n",
       "634666                 0           FBI  \n",
       "\n",
       "[1 rows x 24 columns]"
      ]
     },
     "execution_count": 10,
     "metadata": {},
     "output_type": "execute_result"
    }
   ],
   "source": [
    "df[df['Perpetrator Age'].isna()]"
   ]
  },
  {
   "cell_type": "code",
   "execution_count": 11,
   "metadata": {},
   "outputs": [],
   "source": [
    "df.dropna(inplace=True)"
   ]
  },
  {
   "cell_type": "code",
   "execution_count": 12,
   "metadata": {},
   "outputs": [
    {
     "data": {
      "text/plain": [
       "Record ID                0\n",
       "Agency Code              0\n",
       "Agency Name              0\n",
       "Agency Type              0\n",
       "City                     0\n",
       "State                    0\n",
       "Year                     0\n",
       "Month                    0\n",
       "Incident                 0\n",
       "Crime Type               0\n",
       "Crime Solved             0\n",
       "Victim Sex               0\n",
       "Victim Age               0\n",
       "Victim Race              0\n",
       "Victim Ethnicity         0\n",
       "Perpetrator Sex          0\n",
       "Perpetrator Age          0\n",
       "Perpetrator Race         0\n",
       "Perpetrator Ethnicity    0\n",
       "Relationship             0\n",
       "Weapon                   0\n",
       "Victim Count             0\n",
       "Perpetrator Count        0\n",
       "Record Source            0\n",
       "dtype: int64"
      ]
     },
     "execution_count": 12,
     "metadata": {},
     "output_type": "execute_result"
    }
   ],
   "source": [
    "df.isna().sum()"
   ]
  },
  {
   "cell_type": "markdown",
   "metadata": {},
   "source": [
    "Now let clean up the Victim Age columns. A value of 998 represents victims whose age was not reported, usually because the victim was unidentified and the age was unknown. Lets see how many cases have unknown Victim age"
   ]
  },
  {
   "cell_type": "code",
   "execution_count": 13,
   "metadata": {},
   "outputs": [
    {
     "data": {
      "text/plain": [
       "974"
      ]
     },
     "execution_count": 13,
     "metadata": {},
     "output_type": "execute_result"
    }
   ],
   "source": [
    "df[df['Victim Age']>100]['Victim Age'].count()"
   ]
  },
  {
   "cell_type": "markdown",
   "metadata": {},
   "source": [
    "As seen above its a small number compare to our dataset and we can just take it out and keep known values"
   ]
  },
  {
   "cell_type": "code",
   "execution_count": 14,
   "metadata": {},
   "outputs": [],
   "source": [
    "df=df[df['Victim Age']<100]"
   ]
  },
  {
   "cell_type": "markdown",
   "metadata": {},
   "source": [
    "### Coding agency and location information   \n",
    "Our next concern is how to include the agency information into our data. There are tens of thousands of agencies and one-hot encoding would not make sense for them. We will include external data for that. The clearance dataset is from Uniform Crime Report data summarizing all homicides and homicide clearances reported from 1965 to the present.  \n",
    "ORI is the Agency code "
   ]
  },
  {
   "cell_type": "code",
   "execution_count": 15,
   "metadata": {},
   "outputs": [
    {
     "data": {
      "text/html": [
       "<div>\n",
       "<style scoped>\n",
       "    .dataframe tbody tr th:only-of-type {\n",
       "        vertical-align: middle;\n",
       "    }\n",
       "\n",
       "    .dataframe tbody tr th {\n",
       "        vertical-align: top;\n",
       "    }\n",
       "\n",
       "    .dataframe thead th {\n",
       "        text-align: right;\n",
       "    }\n",
       "</style>\n",
       "<table border=\"1\" class=\"dataframe\">\n",
       "  <thead>\n",
       "    <tr style=\"text-align: right;\">\n",
       "      <th></th>\n",
       "      <th>ORI</th>\n",
       "      <th>Name</th>\n",
       "      <th>YEAR</th>\n",
       "      <th>MRD</th>\n",
       "      <th>CLR</th>\n",
       "      <th>State</th>\n",
       "      <th>County</th>\n",
       "      <th>Agency</th>\n",
       "    </tr>\n",
       "  </thead>\n",
       "  <tbody>\n",
       "    <tr>\n",
       "      <td>0</td>\n",
       "      <td>AK00101</td>\n",
       "      <td>ANCHORAGE</td>\n",
       "      <td>1965</td>\n",
       "      <td>7</td>\n",
       "      <td>6</td>\n",
       "      <td>Alaska</td>\n",
       "      <td>Anchorage, AK</td>\n",
       "      <td>Anchorage</td>\n",
       "    </tr>\n",
       "    <tr>\n",
       "      <td>1</td>\n",
       "      <td>AK00101</td>\n",
       "      <td>ANCHORAGE</td>\n",
       "      <td>1966</td>\n",
       "      <td>18</td>\n",
       "      <td>16</td>\n",
       "      <td>Alaska</td>\n",
       "      <td>Anchorage, AK</td>\n",
       "      <td>Anchorage</td>\n",
       "    </tr>\n",
       "    <tr>\n",
       "      <td>2</td>\n",
       "      <td>AK00101</td>\n",
       "      <td>ANCHORAGE</td>\n",
       "      <td>1967</td>\n",
       "      <td>1</td>\n",
       "      <td>1</td>\n",
       "      <td>Alaska</td>\n",
       "      <td>Anchorage, AK</td>\n",
       "      <td>Anchorage</td>\n",
       "    </tr>\n",
       "    <tr>\n",
       "      <td>3</td>\n",
       "      <td>AK00101</td>\n",
       "      <td>ANCHORAGE</td>\n",
       "      <td>1968</td>\n",
       "      <td>7</td>\n",
       "      <td>5</td>\n",
       "      <td>Alaska</td>\n",
       "      <td>Anchorage, AK</td>\n",
       "      <td>Anchorage</td>\n",
       "    </tr>\n",
       "    <tr>\n",
       "      <td>4</td>\n",
       "      <td>AK00101</td>\n",
       "      <td>ANCHORAGE</td>\n",
       "      <td>1969</td>\n",
       "      <td>7</td>\n",
       "      <td>4</td>\n",
       "      <td>Alaska</td>\n",
       "      <td>Anchorage, AK</td>\n",
       "      <td>Anchorage</td>\n",
       "    </tr>\n",
       "  </tbody>\n",
       "</table>\n",
       "</div>"
      ],
      "text/plain": [
       "       ORI       Name  YEAR  MRD  CLR   State         County     Agency\n",
       "0  AK00101  ANCHORAGE  1965    7    6  Alaska  Anchorage, AK  Anchorage\n",
       "1  AK00101  ANCHORAGE  1966   18   16  Alaska  Anchorage, AK  Anchorage\n",
       "2  AK00101  ANCHORAGE  1967    1    1  Alaska  Anchorage, AK  Anchorage\n",
       "3  AK00101  ANCHORAGE  1968    7    5  Alaska  Anchorage, AK  Anchorage\n",
       "4  AK00101  ANCHORAGE  1969    7    4  Alaska  Anchorage, AK  Anchorage"
      ]
     },
     "execution_count": 15,
     "metadata": {},
     "output_type": "execute_result"
    }
   ],
   "source": [
    "clearance=pd.read_csv('data/UCR65_18.csv')\n",
    "clearance.head()"
   ]
  },
  {
   "cell_type": "code",
   "execution_count": 16,
   "metadata": {},
   "outputs": [
    {
     "data": {
      "text/plain": [
       "(163087, 8)"
      ]
     },
     "execution_count": 16,
     "metadata": {},
     "output_type": "execute_result"
    }
   ],
   "source": [
    "clearance.shape"
   ]
  },
  {
   "cell_type": "markdown",
   "metadata": {},
   "source": [
    "Lets add a column that calculates the clearance rate for each agency for that particular year. We will need to need to drop the row where clearance rate is infinite values."
   ]
  },
  {
   "cell_type": "code",
   "execution_count": 17,
   "metadata": {},
   "outputs": [],
   "source": [
    "clearance[\"rate\"]=clearance[\"CLR\"]/clearance[\"MRD\"]"
   ]
  },
  {
   "cell_type": "code",
   "execution_count": 18,
   "metadata": {},
   "outputs": [],
   "source": [
    "indx=list(np.where(clearance.rate >= np.finfo(np.float64).max)[0])\n",
    "clearance.drop(clearance.index[indx],inplace=True)"
   ]
  },
  {
   "cell_type": "markdown",
   "metadata": {},
   "source": [
    "Lets merge the clearance dataset with out original one. We will perform a left join."
   ]
  },
  {
   "cell_type": "code",
   "execution_count": 19,
   "metadata": {},
   "outputs": [],
   "source": [
    "full_df = df.merge(clearance[['ORI','YEAR','rate']], how='left', left_on=['Agency Code', 'Year'], right_on=['ORI', 'YEAR'])\n"
   ]
  },
  {
   "cell_type": "code",
   "execution_count": 20,
   "metadata": {},
   "outputs": [
    {
     "data": {
      "text/plain": [
       "(637479, 27)"
      ]
     },
     "execution_count": 20,
     "metadata": {},
     "output_type": "execute_result"
    }
   ],
   "source": [
    "full_df.shape"
   ]
  },
  {
   "cell_type": "code",
   "execution_count": 21,
   "metadata": {},
   "outputs": [
    {
     "data": {
      "text/plain": [
       "Record ID                   0\n",
       "Agency Code                 0\n",
       "Agency Name                 0\n",
       "Agency Type                 0\n",
       "City                        0\n",
       "State                       0\n",
       "Year                        0\n",
       "Month                       0\n",
       "Incident                    0\n",
       "Crime Type                  0\n",
       "Crime Solved                0\n",
       "Victim Sex                  0\n",
       "Victim Age                  0\n",
       "Victim Race                 0\n",
       "Victim Ethnicity            0\n",
       "Perpetrator Sex             0\n",
       "Perpetrator Age             0\n",
       "Perpetrator Race            0\n",
       "Perpetrator Ethnicity       0\n",
       "Relationship                0\n",
       "Weapon                      0\n",
       "Victim Count                0\n",
       "Perpetrator Count           0\n",
       "Record Source               0\n",
       "ORI                      6222\n",
       "YEAR                     6222\n",
       "rate                     6222\n",
       "dtype: int64"
      ]
     },
     "execution_count": 21,
     "metadata": {},
     "output_type": "execute_result"
    }
   ],
   "source": [
    "full_df.isna().sum()"
   ]
  },
  {
   "cell_type": "markdown",
   "metadata": {},
   "source": [
    "As we performed a Left join , we have a few nulls where the data did not match. we will fill the null for clearance rate with the mean of the clearance rate for the respective state. "
   ]
  },
  {
   "cell_type": "code",
   "execution_count": 22,
   "metadata": {},
   "outputs": [],
   "source": [
    "full_df['rate'] = full_df['rate'].fillna(full_df.groupby('State')['rate'].transform('mean'))"
   ]
  },
  {
   "cell_type": "markdown",
   "metadata": {},
   "source": [
    "We will drop the duplicate columns"
   ]
  },
  {
   "cell_type": "code",
   "execution_count": 23,
   "metadata": {},
   "outputs": [],
   "source": [
    "full_df.drop(labels=['ORI','YEAR'],axis=1,inplace=True)"
   ]
  },
  {
   "cell_type": "code",
   "execution_count": 24,
   "metadata": {},
   "outputs": [
    {
     "data": {
      "text/plain": [
       "Record ID                0\n",
       "Agency Code              0\n",
       "Agency Name              0\n",
       "Agency Type              0\n",
       "City                     0\n",
       "State                    0\n",
       "Year                     0\n",
       "Month                    0\n",
       "Incident                 0\n",
       "Crime Type               0\n",
       "Crime Solved             0\n",
       "Victim Sex               0\n",
       "Victim Age               0\n",
       "Victim Race              0\n",
       "Victim Ethnicity         0\n",
       "Perpetrator Sex          0\n",
       "Perpetrator Age          0\n",
       "Perpetrator Race         0\n",
       "Perpetrator Ethnicity    0\n",
       "Relationship             0\n",
       "Weapon                   0\n",
       "Victim Count             0\n",
       "Perpetrator Count        0\n",
       "Record Source            0\n",
       "rate                     0\n",
       "dtype: int64"
      ]
     },
     "execution_count": 24,
     "metadata": {},
     "output_type": "execute_result"
    }
   ],
   "source": [
    "full_df.isna().sum()"
   ]
  },
  {
   "cell_type": "code",
   "execution_count": 25,
   "metadata": {},
   "outputs": [
    {
     "data": {
      "text/plain": [
       "(637479, 25)"
      ]
     },
     "execution_count": 25,
     "metadata": {},
     "output_type": "execute_result"
    }
   ],
   "source": [
    "full_df.shape"
   ]
  },
  {
   "cell_type": "markdown",
   "metadata": {},
   "source": [
    "We will write this dataframe to csv to use in our modelling notebook"
   ]
  },
  {
   "cell_type": "code",
   "execution_count": 26,
   "metadata": {},
   "outputs": [],
   "source": [
    "full_df.to_csv('data/dataset_w_clearance.csv')"
   ]
  },
  {
   "cell_type": "code",
   "execution_count": null,
   "metadata": {},
   "outputs": [],
   "source": []
  }
 ],
 "metadata": {
  "kernelspec": {
   "display_name": "Python 3",
   "language": "python",
   "name": "python3"
  },
  "language_info": {
   "codemirror_mode": {
    "name": "ipython",
    "version": 3
   },
   "file_extension": ".py",
   "mimetype": "text/x-python",
   "name": "python",
   "nbconvert_exporter": "python",
   "pygments_lexer": "ipython3",
   "version": "3.7.4"
  }
 },
 "nbformat": 4,
 "nbformat_minor": 4
}
