{
 "cells": [
  {
   "cell_type": "markdown",
   "metadata": {},
   "source": [
    "# Data modelling and Results.\n",
    "\n",
    "This notebook is about running various machine learning classification Models on our dataset.  \n",
    "We will run the following models:  \n",
    "- Logistic Regression  \n",
    "- Decision Tree\n",
    "- Random Forest \n",
    "- Boosting tools\n",
    "- PCA (Logistic Regression)\n",
    "- Neural network (MLP classifier)\n",
    "\n",
    "We will also look at feature importance and predictive power\n"
   ]
  },
  {
   "cell_type": "code",
   "execution_count": 1,
   "metadata": {},
   "outputs": [],
   "source": [
    "import pandas as pd\n",
    "import numpy as np\n",
    "import matplotlib.pyplot as plt\n",
    "import seaborn as sns\n",
    "from sklearn.model_selection import train_test_split\n",
    "from sklearn.model_selection import cross_val_score\n",
    "from sklearn.linear_model import LogisticRegression\n",
    "from sklearn.metrics import accuracy_score\n",
    "from sklearn.model_selection import GridSearchCV\n",
    "from sklearn.metrics import confusion_matrix\n",
    "from sklearn.metrics import classification_report\n",
    "from sklearn.tree import DecisionTreeClassifier\n",
    "from sklearn.ensemble import AdaBoostClassifier\n",
    "from sklearn.ensemble import GradientBoostingClassifier\n",
    "from sklearn.preprocessing import StandardScaler\n",
    "from sklearn.decomposition import PCA\n",
    "from sklearn.ensemble import RandomForestClassifier\n",
    "import statsmodels.api as sm\n",
    "import statsmodels.formula.api as smf\n",
    "from sklearn.neural_network import MLPClassifier"
   ]
  },
  {
   "cell_type": "markdown",
   "metadata": {},
   "source": [
    "We will load our dataset that we exported at the end of our cleaning notebook. "
   ]
  },
  {
   "cell_type": "code",
   "execution_count": 17,
   "metadata": {},
   "outputs": [
    {
     "name": "stdout",
     "output_type": "stream",
     "text": [
      "<class 'pandas.core.frame.DataFrame'>\n",
      "RangeIndex: 637479 entries, 0 to 637478\n",
      "Data columns (total 26 columns):\n",
      "Unnamed: 0               637479 non-null int64\n",
      "Record ID                637479 non-null int64\n",
      "Agency Code              637479 non-null object\n",
      "Agency Name              637479 non-null object\n",
      "Agency Type              637479 non-null object\n",
      "City                     637479 non-null object\n",
      "State                    637479 non-null object\n",
      "Year                     637479 non-null int64\n",
      "Month                    637479 non-null int64\n",
      "Incident                 637479 non-null int64\n",
      "Crime Type               637479 non-null object\n",
      "Crime Solved             637479 non-null int64\n",
      "Victim Sex               637479 non-null object\n",
      "Victim Age               637479 non-null int64\n",
      "Victim Race              637479 non-null object\n",
      "Victim Ethnicity         637479 non-null object\n",
      "Perpetrator Sex          637479 non-null object\n",
      "Perpetrator Age          637479 non-null float64\n",
      "Perpetrator Race         637479 non-null object\n",
      "Perpetrator Ethnicity    637479 non-null object\n",
      "Relationship             637479 non-null object\n",
      "Weapon                   637479 non-null object\n",
      "Victim Count             637479 non-null int64\n",
      "Perpetrator Count        637479 non-null int64\n",
      "Record Source            637479 non-null object\n",
      "rate                     637479 non-null float64\n",
      "dtypes: float64(2), int64(9), object(15)\n",
      "memory usage: 126.5+ MB\n"
     ]
    }
   ],
   "source": [
    "df=pd.read_csv('data/dataset_w_clearance.csv')\n",
    "df.info()"
   ]
  },
  {
   "cell_type": "code",
   "execution_count": 41,
   "metadata": {},
   "outputs": [
    {
     "data": {
      "text/html": [
       "<div>\n",
       "<style scoped>\n",
       "    .dataframe tbody tr th:only-of-type {\n",
       "        vertical-align: middle;\n",
       "    }\n",
       "\n",
       "    .dataframe tbody tr th {\n",
       "        vertical-align: top;\n",
       "    }\n",
       "\n",
       "    .dataframe thead th {\n",
       "        text-align: right;\n",
       "    }\n",
       "</style>\n",
       "<table border=\"1\" class=\"dataframe\">\n",
       "  <thead>\n",
       "    <tr style=\"text-align: right;\">\n",
       "      <th></th>\n",
       "      <th>0</th>\n",
       "      <th>1</th>\n",
       "      <th>2</th>\n",
       "      <th>3</th>\n",
       "      <th>4</th>\n",
       "    </tr>\n",
       "  </thead>\n",
       "  <tbody>\n",
       "    <tr>\n",
       "      <td>Unnamed: 0</td>\n",
       "      <td>0</td>\n",
       "      <td>1</td>\n",
       "      <td>2</td>\n",
       "      <td>3</td>\n",
       "      <td>4</td>\n",
       "    </tr>\n",
       "    <tr>\n",
       "      <td>Record ID</td>\n",
       "      <td>1</td>\n",
       "      <td>2</td>\n",
       "      <td>3</td>\n",
       "      <td>4</td>\n",
       "      <td>5</td>\n",
       "    </tr>\n",
       "    <tr>\n",
       "      <td>Agency Code</td>\n",
       "      <td>AK00101</td>\n",
       "      <td>AK00101</td>\n",
       "      <td>AK00101</td>\n",
       "      <td>AK00101</td>\n",
       "      <td>AK00101</td>\n",
       "    </tr>\n",
       "    <tr>\n",
       "      <td>Agency Name</td>\n",
       "      <td>Anchorage</td>\n",
       "      <td>Anchorage</td>\n",
       "      <td>Anchorage</td>\n",
       "      <td>Anchorage</td>\n",
       "      <td>Anchorage</td>\n",
       "    </tr>\n",
       "    <tr>\n",
       "      <td>Agency Type</td>\n",
       "      <td>Municipal Police</td>\n",
       "      <td>Municipal Police</td>\n",
       "      <td>Municipal Police</td>\n",
       "      <td>Municipal Police</td>\n",
       "      <td>Municipal Police</td>\n",
       "    </tr>\n",
       "    <tr>\n",
       "      <td>City</td>\n",
       "      <td>Anchorage</td>\n",
       "      <td>Anchorage</td>\n",
       "      <td>Anchorage</td>\n",
       "      <td>Anchorage</td>\n",
       "      <td>Anchorage</td>\n",
       "    </tr>\n",
       "    <tr>\n",
       "      <td>State</td>\n",
       "      <td>Alaska</td>\n",
       "      <td>Alaska</td>\n",
       "      <td>Alaska</td>\n",
       "      <td>Alaska</td>\n",
       "      <td>Alaska</td>\n",
       "    </tr>\n",
       "    <tr>\n",
       "      <td>Year</td>\n",
       "      <td>1980</td>\n",
       "      <td>1980</td>\n",
       "      <td>1980</td>\n",
       "      <td>1980</td>\n",
       "      <td>1980</td>\n",
       "    </tr>\n",
       "    <tr>\n",
       "      <td>Month</td>\n",
       "      <td>1</td>\n",
       "      <td>3</td>\n",
       "      <td>3</td>\n",
       "      <td>4</td>\n",
       "      <td>4</td>\n",
       "    </tr>\n",
       "    <tr>\n",
       "      <td>Incident</td>\n",
       "      <td>1</td>\n",
       "      <td>1</td>\n",
       "      <td>2</td>\n",
       "      <td>1</td>\n",
       "      <td>2</td>\n",
       "    </tr>\n",
       "    <tr>\n",
       "      <td>Crime Type</td>\n",
       "      <td>Murder or Manslaughter</td>\n",
       "      <td>Murder or Manslaughter</td>\n",
       "      <td>Murder or Manslaughter</td>\n",
       "      <td>Murder or Manslaughter</td>\n",
       "      <td>Murder or Manslaughter</td>\n",
       "    </tr>\n",
       "    <tr>\n",
       "      <td>Crime Solved</td>\n",
       "      <td>1</td>\n",
       "      <td>1</td>\n",
       "      <td>0</td>\n",
       "      <td>1</td>\n",
       "      <td>0</td>\n",
       "    </tr>\n",
       "    <tr>\n",
       "      <td>Victim Sex</td>\n",
       "      <td>Male</td>\n",
       "      <td>Male</td>\n",
       "      <td>Female</td>\n",
       "      <td>Male</td>\n",
       "      <td>Female</td>\n",
       "    </tr>\n",
       "    <tr>\n",
       "      <td>Victim Age</td>\n",
       "      <td>14</td>\n",
       "      <td>43</td>\n",
       "      <td>30</td>\n",
       "      <td>43</td>\n",
       "      <td>30</td>\n",
       "    </tr>\n",
       "    <tr>\n",
       "      <td>Victim Race</td>\n",
       "      <td>Native American/Alaska Native</td>\n",
       "      <td>White</td>\n",
       "      <td>Native American/Alaska Native</td>\n",
       "      <td>White</td>\n",
       "      <td>Native American/Alaska Native</td>\n",
       "    </tr>\n",
       "    <tr>\n",
       "      <td>Victim Ethnicity</td>\n",
       "      <td>Unknown</td>\n",
       "      <td>Unknown</td>\n",
       "      <td>Unknown</td>\n",
       "      <td>Unknown</td>\n",
       "      <td>Unknown</td>\n",
       "    </tr>\n",
       "    <tr>\n",
       "      <td>Perpetrator Sex</td>\n",
       "      <td>Male</td>\n",
       "      <td>Male</td>\n",
       "      <td>Unknown</td>\n",
       "      <td>Male</td>\n",
       "      <td>Unknown</td>\n",
       "    </tr>\n",
       "    <tr>\n",
       "      <td>Perpetrator Age</td>\n",
       "      <td>15</td>\n",
       "      <td>42</td>\n",
       "      <td>0</td>\n",
       "      <td>42</td>\n",
       "      <td>0</td>\n",
       "    </tr>\n",
       "    <tr>\n",
       "      <td>Perpetrator Race</td>\n",
       "      <td>Native American/Alaska Native</td>\n",
       "      <td>White</td>\n",
       "      <td>Unknown</td>\n",
       "      <td>White</td>\n",
       "      <td>Unknown</td>\n",
       "    </tr>\n",
       "    <tr>\n",
       "      <td>Perpetrator Ethnicity</td>\n",
       "      <td>Unknown</td>\n",
       "      <td>Unknown</td>\n",
       "      <td>Unknown</td>\n",
       "      <td>Unknown</td>\n",
       "      <td>Unknown</td>\n",
       "    </tr>\n",
       "    <tr>\n",
       "      <td>Relationship</td>\n",
       "      <td>Acquaintance</td>\n",
       "      <td>Acquaintance</td>\n",
       "      <td>Unknown</td>\n",
       "      <td>Acquaintance</td>\n",
       "      <td>Unknown</td>\n",
       "    </tr>\n",
       "    <tr>\n",
       "      <td>Weapon</td>\n",
       "      <td>Blunt Object</td>\n",
       "      <td>Strangulation</td>\n",
       "      <td>Unknown</td>\n",
       "      <td>Strangulation</td>\n",
       "      <td>Unknown</td>\n",
       "    </tr>\n",
       "    <tr>\n",
       "      <td>Victim Count</td>\n",
       "      <td>0</td>\n",
       "      <td>0</td>\n",
       "      <td>0</td>\n",
       "      <td>0</td>\n",
       "      <td>0</td>\n",
       "    </tr>\n",
       "    <tr>\n",
       "      <td>Perpetrator Count</td>\n",
       "      <td>0</td>\n",
       "      <td>0</td>\n",
       "      <td>0</td>\n",
       "      <td>0</td>\n",
       "      <td>1</td>\n",
       "    </tr>\n",
       "    <tr>\n",
       "      <td>Record Source</td>\n",
       "      <td>FBI</td>\n",
       "      <td>FBI</td>\n",
       "      <td>FBI</td>\n",
       "      <td>FBI</td>\n",
       "      <td>FBI</td>\n",
       "    </tr>\n",
       "    <tr>\n",
       "      <td>rate</td>\n",
       "      <td>0.533333</td>\n",
       "      <td>0.533333</td>\n",
       "      <td>0.533333</td>\n",
       "      <td>0.533333</td>\n",
       "      <td>0.533333</td>\n",
       "    </tr>\n",
       "  </tbody>\n",
       "</table>\n",
       "</div>"
      ],
      "text/plain": [
       "                                                   0                       1  \\\n",
       "Unnamed: 0                                         0                       1   \n",
       "Record ID                                          1                       2   \n",
       "Agency Code                                  AK00101                 AK00101   \n",
       "Agency Name                                Anchorage               Anchorage   \n",
       "Agency Type                         Municipal Police        Municipal Police   \n",
       "City                                       Anchorage               Anchorage   \n",
       "State                                         Alaska                  Alaska   \n",
       "Year                                            1980                    1980   \n",
       "Month                                              1                       3   \n",
       "Incident                                           1                       1   \n",
       "Crime Type                    Murder or Manslaughter  Murder or Manslaughter   \n",
       "Crime Solved                                       1                       1   \n",
       "Victim Sex                                      Male                    Male   \n",
       "Victim Age                                        14                      43   \n",
       "Victim Race            Native American/Alaska Native                   White   \n",
       "Victim Ethnicity                             Unknown                 Unknown   \n",
       "Perpetrator Sex                                 Male                    Male   \n",
       "Perpetrator Age                                   15                      42   \n",
       "Perpetrator Race       Native American/Alaska Native                   White   \n",
       "Perpetrator Ethnicity                        Unknown                 Unknown   \n",
       "Relationship                            Acquaintance            Acquaintance   \n",
       "Weapon                                  Blunt Object           Strangulation   \n",
       "Victim Count                                       0                       0   \n",
       "Perpetrator Count                                  0                       0   \n",
       "Record Source                                    FBI                     FBI   \n",
       "rate                                        0.533333                0.533333   \n",
       "\n",
       "                                                   2                       3  \\\n",
       "Unnamed: 0                                         2                       3   \n",
       "Record ID                                          3                       4   \n",
       "Agency Code                                  AK00101                 AK00101   \n",
       "Agency Name                                Anchorage               Anchorage   \n",
       "Agency Type                         Municipal Police        Municipal Police   \n",
       "City                                       Anchorage               Anchorage   \n",
       "State                                         Alaska                  Alaska   \n",
       "Year                                            1980                    1980   \n",
       "Month                                              3                       4   \n",
       "Incident                                           2                       1   \n",
       "Crime Type                    Murder or Manslaughter  Murder or Manslaughter   \n",
       "Crime Solved                                       0                       1   \n",
       "Victim Sex                                    Female                    Male   \n",
       "Victim Age                                        30                      43   \n",
       "Victim Race            Native American/Alaska Native                   White   \n",
       "Victim Ethnicity                             Unknown                 Unknown   \n",
       "Perpetrator Sex                              Unknown                    Male   \n",
       "Perpetrator Age                                    0                      42   \n",
       "Perpetrator Race                             Unknown                   White   \n",
       "Perpetrator Ethnicity                        Unknown                 Unknown   \n",
       "Relationship                                 Unknown            Acquaintance   \n",
       "Weapon                                       Unknown           Strangulation   \n",
       "Victim Count                                       0                       0   \n",
       "Perpetrator Count                                  0                       0   \n",
       "Record Source                                    FBI                     FBI   \n",
       "rate                                        0.533333                0.533333   \n",
       "\n",
       "                                                   4  \n",
       "Unnamed: 0                                         4  \n",
       "Record ID                                          5  \n",
       "Agency Code                                  AK00101  \n",
       "Agency Name                                Anchorage  \n",
       "Agency Type                         Municipal Police  \n",
       "City                                       Anchorage  \n",
       "State                                         Alaska  \n",
       "Year                                            1980  \n",
       "Month                                              4  \n",
       "Incident                                           2  \n",
       "Crime Type                    Murder or Manslaughter  \n",
       "Crime Solved                                       0  \n",
       "Victim Sex                                    Female  \n",
       "Victim Age                                        30  \n",
       "Victim Race            Native American/Alaska Native  \n",
       "Victim Ethnicity                             Unknown  \n",
       "Perpetrator Sex                              Unknown  \n",
       "Perpetrator Age                                    0  \n",
       "Perpetrator Race                             Unknown  \n",
       "Perpetrator Ethnicity                        Unknown  \n",
       "Relationship                                 Unknown  \n",
       "Weapon                                       Unknown  \n",
       "Victim Count                                       0  \n",
       "Perpetrator Count                                  1  \n",
       "Record Source                                    FBI  \n",
       "rate                                        0.533333  "
      ]
     },
     "execution_count": 41,
     "metadata": {},
     "output_type": "execute_result"
    }
   ],
   "source": [
    "df.head().transpose()"
   ]
  },
  {
   "cell_type": "code",
   "execution_count": 18,
   "metadata": {},
   "outputs": [
    {
     "data": {
      "text/plain": [
       "(637479, 26)"
      ]
     },
     "execution_count": 18,
     "metadata": {},
     "output_type": "execute_result"
    }
   ],
   "source": [
    "df.shape"
   ]
  },
  {
   "cell_type": "markdown",
   "metadata": {},
   "source": [
    "### Building Models\n",
    "\n",
    "Target: Crime Solved \n",
    "    Our target column is if the crime was solved or not. It is a binary column where 1: Homicide solved 0: Unsolved\n",
    "    \n",
    "Features: Here we will only include features of the case where it makes sense and would not increase our number of dummied columns into 1000s. \n",
    "   - Agency features: our of the agency information columns we will only include agency type.\n",
    "   - Victim characteristics: we will incllude all the information.\n",
    "   - Perpetrator characteristics: we will not include any of this. Information is only available for solved crimes and unsolved crimes have 'unknown' value in each of these columns.Including it would leak information.\n",
    "   - Relationship :  variable describing the relationship between the victim and the offender,we will not include any of this. Information is only available for solved crimes and unsolved crimes have 'unknown' value.\n",
    "   - Weapon: Weapon used in the homicide,This is an important feature to include.\n",
    "   - Rate: Clearance rate of the agency\n",
    "\n",
    "\n",
    "After assigning X,y , we will one-Hot encode our features and most of them are categorical.\n",
    "    "
   ]
  },
  {
   "cell_type": "code",
   "execution_count": 44,
   "metadata": {},
   "outputs": [],
   "source": [
    "X=df[['Year', 'Month',\n",
    "      'State','Agency Type',\n",
    "      'Victim Sex', 'Victim Age', 'Victim Race', 'Victim Count','Victim Ethnicity',\n",
    "              #'Perpetrator Sex', 'Perpetrator Age', 'Perpetrator Race','Perpetrator Ethnicity', 'Relationship', \n",
    "              'Weapon','rate']]\n",
    "X_dum=pd.get_dummies(X)\n",
    "y=df['Crime Solved']"
   ]
  },
  {
   "cell_type": "markdown",
   "metadata": {},
   "source": [
    "#### We will do the training and test split of 70:30."
   ]
  },
  {
   "cell_type": "code",
   "execution_count": 45,
   "metadata": {},
   "outputs": [],
   "source": [
    "X_train, X_test, y_train, y_test = train_test_split(X_dum, y, test_size=0.3, random_state=1\n",
    "                                                   )"
   ]
  },
  {
   "cell_type": "code",
   "execution_count": 46,
   "metadata": {},
   "outputs": [
    {
     "data": {
      "text/plain": [
       "(446235, 90)"
      ]
     },
     "execution_count": 46,
     "metadata": {},
     "output_type": "execute_result"
    }
   ],
   "source": [
    "X_train.shape"
   ]
  },
  {
   "cell_type": "markdown",
   "metadata": {},
   "source": [
    "Fitting a Logistic Regression"
   ]
  },
  {
   "cell_type": "code",
   "execution_count": 24,
   "metadata": {},
   "outputs": [
    {
     "name": "stdout",
     "output_type": "stream",
     "text": [
      "The score on the training set: 0.715826862527592\n",
      "The score on the testing set: 0.7175231641254105\n"
     ]
    }
   ],
   "source": [
    "logistic_regression_model = LogisticRegression(C=1)\n",
    "logistic_regression_model.fit(X_train, y_train)\n",
    "y_pred = logistic_regression_model.predict(X_test)\n",
    "y_train_p=logistic_regression_model.predict(X_train)\n",
    "print(f'The score on the training set: {accuracy_score(y_train,y_train_p)}')\n",
    "print(f'The score on the testing set: {accuracy_score(y_test,y_pred)}')"
   ]
  },
  {
   "cell_type": "markdown",
   "metadata": {},
   "source": [
    "We will now see the confusion matrix and Classification report"
   ]
  },
  {
   "cell_type": "code",
   "execution_count": 25,
   "metadata": {},
   "outputs": [
    {
     "data": {
      "text/plain": [
       "array([[ 12944,  43915],\n",
       "       [ 10107, 124278]])"
      ]
     },
     "execution_count": 25,
     "metadata": {},
     "output_type": "execute_result"
    }
   ],
   "source": [
    "y_pred = logistic_regression_model.predict(X_test)\n",
    "from sklearn.metrics import confusion_matrix\n",
    "confusion_matrix(y_test, y_pred)"
   ]
  },
  {
   "cell_type": "code",
   "execution_count": 26,
   "metadata": {},
   "outputs": [
    {
     "name": "stdout",
     "output_type": "stream",
     "text": [
      "              precision    recall  f1-score   support\n",
      "\n",
      "           0       0.56      0.23      0.32     56859\n",
      "           1       0.74      0.92      0.82    134385\n",
      "\n",
      "    accuracy                           0.72    191244\n",
      "   macro avg       0.65      0.58      0.57    191244\n",
      "weighted avg       0.69      0.72      0.67    191244\n",
      "\n"
     ]
    }
   ],
   "source": [
    "print(classification_report(y_test, y_pred))"
   ]
  },
  {
   "cell_type": "markdown",
   "metadata": {},
   "source": [
    "Using grid CV to get the best hyperparameters"
   ]
  },
  {
   "cell_type": "code",
   "execution_count": 27,
   "metadata": {},
   "outputs": [
    {
     "name": "stdout",
     "output_type": "stream",
     "text": [
      "Best cross-validation score: 0.72\n",
      "Best parameters:  {'C': 1}\n",
      "Best estimator:  LogisticRegression(C=1, class_weight=None, dual=False, fit_intercept=True,\n",
      "                   intercept_scaling=1, l1_ratio=None, max_iter=100,\n",
      "                   multi_class='warn', n_jobs=None, penalty='l2',\n",
      "                   random_state=None, solver='liblinear', tol=0.0001, verbose=0,\n",
      "                   warm_start=False)\n"
     ]
    }
   ],
   "source": [
    "import warnings\n",
    "warnings.filterwarnings(\"ignore\")\n",
    "param_grid = {'C': [0.01, 0.1, 1, 10,100]}\n",
    "logistic = LogisticRegression(solver='liblinear')\n",
    "grid = GridSearchCV(estimator=logistic,param_grid=param_grid,n_jobs=-1)\n",
    "grid.fit(X_train, y_train)\n",
    "\n",
    "print(\"Best cross-validation score: {:.2f}\".format(grid.best_score_))\n",
    "print(\"Best parameters: \", grid.best_params_)\n",
    "print(\"Best estimator: \", grid.best_estimator_)"
   ]
  },
  {
   "cell_type": "markdown",
   "metadata": {},
   "source": [
    "#### Decision tree CLassifier"
   ]
  },
  {
   "cell_type": "code",
   "execution_count": 43,
   "metadata": {},
   "outputs": [
    {
     "name": "stdout",
     "output_type": "stream",
     "text": [
      "Train accuracy is 0.9853754187815837\n",
      "Test accuracy is 0.6665150279224447\n"
     ]
    }
   ],
   "source": [
    "from sklearn.tree import DecisionTreeClassifier\n",
    "DT_model = DecisionTreeClassifier()\n",
    "DT_model.fit(X_train, y_train)\n",
    "train_accuracy = DT_model.score(X_train, y_train)\n",
    "test_accuracy = DT_model.score(X_test, y_test)\n",
    "print(f'Train accuracy is {train_accuracy}')\n",
    "print(f'Test accuracy is {test_accuracy}')"
   ]
  },
  {
   "cell_type": "markdown",
   "metadata": {},
   "source": [
    "Finding optimum max depth of or decision tree"
   ]
  },
  {
   "cell_type": "code",
   "execution_count": 47,
   "metadata": {},
   "outputs": [
    {
     "name": "stdout",
     "output_type": "stream",
     "text": [
      "checking for depth of= 1\n",
      "checking for depth of= 2\n",
      "checking for depth of= 3\n",
      "checking for depth of= 4\n",
      "checking for depth of= 5\n",
      "checking for depth of= 6\n",
      "checking for depth of= 7\n",
      "checking for depth of= 8\n",
      "checking for depth of= 9\n",
      "checking for depth of= 10\n",
      "checking for depth of= 11\n",
      "checking for depth of= 12\n",
      "checking for depth of= 13\n",
      "checking for depth of= 14\n",
      "checking for depth of= 15\n",
      "checking for depth of= 16\n",
      "checking for depth of= 17\n",
      "checking for depth of= 18\n",
      "checking for depth of= 19\n",
      "checking for depth of= 20\n",
      "checking for depth of= 21\n",
      "checking for depth of= 22\n",
      "checking for depth of= 23\n",
      "checking for depth of= 24\n",
      "checking for depth of= 25\n",
      "checking for depth of= 26\n",
      "checking for depth of= 27\n",
      "checking for depth of= 28\n",
      "checking for depth of= 29\n"
     ]
    }
   ],
   "source": [
    "depth = list(range(1, 30))\n",
    "\n",
    "# empty list that will hold cv scores\n",
    "cv_scores_DT = []\n",
    "\n",
    "# perform 5-fold cross validation\n",
    "for d in depth:\n",
    "    DT = DecisionTreeClassifier(max_depth=d)\n",
    "    scores = cross_val_score(DT, X_train, y_train, cv=5, scoring='accuracy')\n",
    "    cv_scores_DT.append(scores.mean())\n",
    "    print(f'checking for depth of= {d}')"
   ]
  },
  {
   "cell_type": "code",
   "execution_count": 49,
   "metadata": {},
   "outputs": [
    {
     "data": {
      "image/png": "[encoded data removed]",
      "text/plain": [
       "<Figure size 432x288 with 1 Axes>"
      ]
     },
     "metadata": {
      "needs_background": "light"
     },
     "output_type": "display_data"
    }
   ],
   "source": [
    "#plotting scores against the depth of the tree\n",
    "plt.figure()\n",
    "plt.plot(depth,cv_scores_DT)\n",
    "plt.xlabel('Depth of the decision tree')\n",
    "plt.ylabel('CV_scores')\n",
    "plt.show()"
   ]
  },
  {
   "cell_type": "code",
   "execution_count": 50,
   "metadata": {},
   "outputs": [
    {
     "data": {
      "text/plain": [
       "15"
      ]
     },
     "execution_count": 50,
     "metadata": {},
     "output_type": "execute_result"
    }
   ],
   "source": [
    "depth[np.argmax(cv_scores_DT)]"
   ]
  },
  {
   "cell_type": "markdown",
   "metadata": {},
   "source": [
    "Running decision tree model with a max depth of 15"
   ]
  },
  {
   "cell_type": "code",
   "execution_count": 18,
   "metadata": {},
   "outputs": [
    {
     "name": "stdout",
     "output_type": "stream",
     "text": [
      "Train accuracy is 0.7483227925504036\n",
      "Test accuracy is 0.7351478421567562\n"
     ]
    }
   ],
   "source": [
    "from sklearn.tree import DecisionTreeClassifier\n",
    "DT_model = DecisionTreeClassifier(max_depth=15)\n",
    "DT_model.fit(X_train, y_train)\n",
    "train_accuracy = DT_model.score(X_train, y_train)\n",
    "test_accuracy = DT_model.score(X_test, y_test)\n",
    "print(f'Train accuracy is {train_accuracy}')\n",
    "print(f'Test accuracy is {test_accuracy}')"
   ]
  },
  {
   "cell_type": "code",
   "execution_count": 19,
   "metadata": {},
   "outputs": [
    {
     "name": "stdout",
     "output_type": "stream",
     "text": [
      "              precision    recall  f1-score   support\n",
      "\n",
      "           0       0.60      0.33      0.43     43649\n",
      "           1       0.76      0.90      0.83    103535\n",
      "\n",
      "    accuracy                           0.74    147184\n",
      "   macro avg       0.68      0.62      0.63    147184\n",
      "weighted avg       0.71      0.74      0.71    147184\n",
      "\n"
     ]
    }
   ],
   "source": [
    "y_pred = DT_model.predict(X_test)\n",
    "print(classification_report(y_test, y_pred))"
   ]
  },
  {
   "cell_type": "markdown",
   "metadata": {},
   "source": [
    "FInding Feature importance form the decision tree model"
   ]
  },
  {
   "cell_type": "code",
   "execution_count": 20,
   "metadata": {},
   "outputs": [
    {
     "data": {
      "text/html": [
       "<div>\n",
       "<style scoped>\n",
       "    .dataframe tbody tr th:only-of-type {\n",
       "        vertical-align: middle;\n",
       "    }\n",
       "\n",
       "    .dataframe tbody tr th {\n",
       "        vertical-align: top;\n",
       "    }\n",
       "\n",
       "    .dataframe thead th {\n",
       "        text-align: right;\n",
       "    }\n",
       "</style>\n",
       "<table border=\"1\" class=\"dataframe\">\n",
       "  <thead>\n",
       "    <tr style=\"text-align: right;\">\n",
       "      <th></th>\n",
       "      <th>Feature</th>\n",
       "      <th>Coeff</th>\n",
       "    </tr>\n",
       "  </thead>\n",
       "  <tbody>\n",
       "    <tr>\n",
       "      <td>4</td>\n",
       "      <td>rate</td>\n",
       "      <td>0.475167</td>\n",
       "    </tr>\n",
       "    <tr>\n",
       "      <td>2</td>\n",
       "      <td>Victim Age</td>\n",
       "      <td>0.086747</td>\n",
       "    </tr>\n",
       "    <tr>\n",
       "      <td>80</td>\n",
       "      <td>Weapon_Firearm</td>\n",
       "      <td>0.059685</td>\n",
       "    </tr>\n",
       "    <tr>\n",
       "      <td>89</td>\n",
       "      <td>Weapon_Unknown</td>\n",
       "      <td>0.051642</td>\n",
       "    </tr>\n",
       "    <tr>\n",
       "      <td>0</td>\n",
       "      <td>Year</td>\n",
       "      <td>0.045482</td>\n",
       "    </tr>\n",
       "    <tr>\n",
       "      <td>37</td>\n",
       "      <td>State_New York</td>\n",
       "      <td>0.041967</td>\n",
       "    </tr>\n",
       "    <tr>\n",
       "      <td>13</td>\n",
       "      <td>State_District of Columbia</td>\n",
       "      <td>0.028462</td>\n",
       "    </tr>\n",
       "    <tr>\n",
       "      <td>1</td>\n",
       "      <td>Month</td>\n",
       "      <td>0.025755</td>\n",
       "    </tr>\n",
       "    <tr>\n",
       "      <td>87</td>\n",
       "      <td>Weapon_Strangulation</td>\n",
       "      <td>0.019577</td>\n",
       "    </tr>\n",
       "    <tr>\n",
       "      <td>9</td>\n",
       "      <td>State_California</td>\n",
       "      <td>0.017604</td>\n",
       "    </tr>\n",
       "  </tbody>\n",
       "</table>\n",
       "</div>"
      ],
      "text/plain": [
       "                       Feature     Coeff\n",
       "4                         rate  0.475167\n",
       "2                   Victim Age  0.086747\n",
       "80              Weapon_Firearm  0.059685\n",
       "89              Weapon_Unknown  0.051642\n",
       "0                         Year  0.045482\n",
       "37              State_New York  0.041967\n",
       "13  State_District of Columbia  0.028462\n",
       "1                        Month  0.025755\n",
       "87        Weapon_Strangulation  0.019577\n",
       "9             State_California  0.017604"
      ]
     },
     "execution_count": 20,
     "metadata": {},
     "output_type": "execute_result"
    }
   ],
   "source": [
    "DT_model.feature_importances_\n",
    "Feature = pd.concat([pd.DataFrame(X_train.columns),pd.DataFrame(np.transpose(DT_model.feature_importances_))], axis = 1)\n",
    "Feature.columns=['Feature','Coeff']\n",
    "Feature.sort_values(by='Coeff',ascending=False).head(10)"
   ]
  },
  {
   "cell_type": "markdown",
   "metadata": {},
   "source": [
    "We have 90 different features. Lets see if we can use PCA to resuce Dimensionality. We wont sclae the data here as most features are dummies. "
   ]
  },
  {
   "cell_type": "code",
   "execution_count": 21,
   "metadata": {},
   "outputs": [
    {
     "data": {
      "image/png": "[encoded data removed]",
      "text/plain": [
       "<Figure size 432x288 with 1 Axes>"
      ]
     },
     "metadata": {
      "needs_background": "light"
     },
     "output_type": "display_data"
    }
   ],
   "source": [
    "# stating with 30 component\n",
    "my_pca = PCA(n_components=30)\n",
    "my_pca.fit(X_train)\n",
    "\n",
    "# transform data \n",
    "X_PCA = my_pca.transform(X_train)\n",
    "expl_var_cumulative = my_pca.explained_variance_ratio_.cumsum()\n",
    "plt.figure()\n",
    "plt.plot(range(1,31),expl_var_cumulative,marker='.')\n",
    "plt.xlabel('Number of PCs')\n",
    "plt.ylabel('Proportion of Variance Explained')\n",
    "plt.xticks(range(1,31,2))\n",
    "plt.show()"
   ]
  },
  {
   "cell_type": "markdown",
   "metadata": {},
   "source": [
    "The above graph for cumulative variance vs number of components shows that 2 components can explain almost 99% of the variance. "
   ]
  },
  {
   "cell_type": "code",
   "execution_count": 48,
   "metadata": {},
   "outputs": [
    {
     "data": {
      "image/png": "[encoded data removed]",
      "text/plain": [
       "<Figure size 576x576 with 1 Axes>"
      ]
     },
     "metadata": {
      "needs_background": "light"
     },
     "output_type": "display_data"
    }
   ],
   "source": [
    "my_pca = PCA(n_components=2)\n",
    "my_pca.fit(X_train)\n",
    "\n",
    "# transform data \n",
    "X_PCA = my_pca.transform(X_train)\n",
    "X_test_PCA=my_pca.transform(X_test)\n",
    "\n",
    "plt.figure(figsize=(8, 8))\n",
    "plt.scatter(X_PCA[:,0],X_PCA[:,1])\n",
    "\n",
    "plt.xlabel(\"Principal Component 1\")\n",
    "plt.ylabel(\"Principal Component 2\")\n",
    "\n",
    "plt.show()"
   ]
  },
  {
   "cell_type": "markdown",
   "metadata": {},
   "source": [
    "Lets run a Logistic regression on the PCA of 2 components"
   ]
  },
  {
   "cell_type": "code",
   "execution_count": 23,
   "metadata": {},
   "outputs": [
    {
     "name": "stderr",
     "output_type": "stream",
     "text": [
      "/Users/J/opt/anaconda3/lib/python3.7/site-packages/sklearn/linear_model/logistic.py:432: FutureWarning: Default solver will be changed to 'lbfgs' in 0.22. Specify a solver to silence this warning.\n",
      "  FutureWarning)\n"
     ]
    },
    {
     "name": "stdout",
     "output_type": "stream",
     "text": [
      "The score on the training set: 0.701754079457703\n",
      "The score on the testing set: 0.7040167409501032\n"
     ]
    }
   ],
   "source": [
    "log_PCA = LogisticRegression()\n",
    "log_PCA.fit(X_PCA, y_train)\n",
    "y_pred = log_PCA.predict(X_test_PCA)\n",
    "y_train_p=log_PCA.predict(X_PCA)\n",
    "print(f'The score on the training set: {accuracy_score(y_train,y_train_p)}')\n",
    "print(f'The score on the testing set: {accuracy_score(y_test,y_pred)}')"
   ]
  },
  {
   "cell_type": "markdown",
   "metadata": {},
   "source": [
    "PCA gives us good results but we lose a lot of interpretability.   \n",
    "Next we will run a random forest classifier with 20 estimators"
   ]
  },
  {
   "cell_type": "code",
   "execution_count": 7,
   "metadata": {},
   "outputs": [
    {
     "name": "stdout",
     "output_type": "stream",
     "text": [
      "Performance on fitted data:\n",
      "Best Decision Tree: 0.8686303970555691\n",
      "Worst Decision Tree: 0.8659864658676637\n",
      "Average Decision Tree: 0.8672564555015899\n",
      "Random Forest: 0.9792649405406665\n"
     ]
    }
   ],
   "source": [
    "my_random_forest = RandomForestClassifier(n_estimators=20)\n",
    "my_random_forest.fit(X_train, y_train)\n",
    "decision_tree_scores = []\n",
    "for sub_tree in my_random_forest.estimators_:\n",
    "    decision_tree_scores.append(sub_tree.score(X_train, y_train))\n",
    "    \n",
    "print(\"Performance on fitted data:\")\n",
    "print(f\"Best Decision Tree: {max(decision_tree_scores)}\")\n",
    "print(f\"Worst Decision Tree: {min(decision_tree_scores)}\")\n",
    "print(f\"Average Decision Tree: {np.mean(decision_tree_scores)}\")\n",
    "print(f\"Random Forest: {my_random_forest.score(X_train, y_train)}\")"
   ]
  },
  {
   "cell_type": "code",
   "execution_count": 8,
   "metadata": {},
   "outputs": [
    {
     "name": "stdout",
     "output_type": "stream",
     "text": [
      "Random Forest: 0.7128560169583651\n"
     ]
    }
   ],
   "source": [
    "print(f\"Random Forest: {my_random_forest.score(X_test, y_test)}\")"
   ]
  },
  {
   "cell_type": "markdown",
   "metadata": {},
   "source": [
    "Not much improvement in accuracy."
   ]
  },
  {
   "cell_type": "markdown",
   "metadata": {},
   "source": [
    "We will stick to logistic regression for the sake of interpretability . Lets see what the coeeficients values tells us\n"
   ]
  },
  {
   "cell_type": "code",
   "execution_count": 36,
   "metadata": {},
   "outputs": [
    {
     "name": "stdout",
     "output_type": "stream",
     "text": [
      "The score on the training set: 0.7081358477035643\n",
      "The score on the testing set: 0.7095072263705006\n"
     ]
    }
   ],
   "source": [
    "logistic_regression_model = LogisticRegression(C=1)\n",
    "logistic_regression_model.fit(X_train, y_train)\n",
    "y_pred = logistic_regression_model.predict(X_test)\n",
    "y_train_p=logistic_regression_model.predict(X_train)\n",
    "print(f'The score on the training set: {accuracy_score(y_train,y_train_p)}')\n",
    "print(f'The score on the testing set: {accuracy_score(y_test,y_pred)}')"
   ]
  },
  {
   "cell_type": "code",
   "execution_count": 37,
   "metadata": {},
   "outputs": [
    {
     "data": {
      "text/html": [
       "<div>\n",
       "<style scoped>\n",
       "    .dataframe tbody tr th:only-of-type {\n",
       "        vertical-align: middle;\n",
       "    }\n",
       "\n",
       "    .dataframe tbody tr th {\n",
       "        vertical-align: top;\n",
       "    }\n",
       "\n",
       "    .dataframe thead th {\n",
       "        text-align: right;\n",
       "    }\n",
       "</style>\n",
       "<table border=\"1\" class=\"dataframe\">\n",
       "  <thead>\n",
       "    <tr style=\"text-align: right;\">\n",
       "      <th></th>\n",
       "      <th>Feature</th>\n",
       "      <th>Coeff</th>\n",
       "    </tr>\n",
       "  </thead>\n",
       "  <tbody>\n",
       "    <tr>\n",
       "      <td>36</td>\n",
       "      <td>Weapon_Strangulation</td>\n",
       "      <td>-0.790968</td>\n",
       "    </tr>\n",
       "    <tr>\n",
       "      <td>38</td>\n",
       "      <td>Weapon_Unknown</td>\n",
       "      <td>-0.693656</td>\n",
       "    </tr>\n",
       "    <tr>\n",
       "      <td>29</td>\n",
       "      <td>Weapon_Firearm</td>\n",
       "      <td>-0.616343</td>\n",
       "    </tr>\n",
       "    <tr>\n",
       "      <td>20</td>\n",
       "      <td>Victim Ethnicity_Hispanic</td>\n",
       "      <td>-0.311316</td>\n",
       "    </tr>\n",
       "    <tr>\n",
       "      <td>18</td>\n",
       "      <td>Victim Race_Unknown</td>\n",
       "      <td>-0.276796</td>\n",
       "    </tr>\n",
       "    <tr>\n",
       "      <td>5</td>\n",
       "      <td>Agency Type_County Police</td>\n",
       "      <td>-0.262404</td>\n",
       "    </tr>\n",
       "    <tr>\n",
       "      <td>28</td>\n",
       "      <td>Weapon_Fire</td>\n",
       "      <td>-0.237438</td>\n",
       "    </tr>\n",
       "    <tr>\n",
       "      <td>6</td>\n",
       "      <td>Agency Type_Municipal Police</td>\n",
       "      <td>-0.203830</td>\n",
       "    </tr>\n",
       "    <tr>\n",
       "      <td>13</td>\n",
       "      <td>Victim Sex_Male</td>\n",
       "      <td>-0.186391</td>\n",
       "    </tr>\n",
       "    <tr>\n",
       "      <td>30</td>\n",
       "      <td>Weapon_Gun</td>\n",
       "      <td>-0.181329</td>\n",
       "    </tr>\n",
       "    <tr>\n",
       "      <td>16</td>\n",
       "      <td>Victim Race_Black</td>\n",
       "      <td>-0.076241</td>\n",
       "    </tr>\n",
       "    <tr>\n",
       "      <td>14</td>\n",
       "      <td>Victim Sex_Unknown</td>\n",
       "      <td>-0.031866</td>\n",
       "    </tr>\n",
       "    <tr>\n",
       "      <td>9</td>\n",
       "      <td>Agency Type_Special Police</td>\n",
       "      <td>-0.022291</td>\n",
       "    </tr>\n",
       "    <tr>\n",
       "      <td>15</td>\n",
       "      <td>Victim Race_Asian/Pacific Islander</td>\n",
       "      <td>-0.019960</td>\n",
       "    </tr>\n",
       "    <tr>\n",
       "      <td>37</td>\n",
       "      <td>Weapon_Suffocation</td>\n",
       "      <td>-0.019860</td>\n",
       "    </tr>\n",
       "    <tr>\n",
       "      <td>26</td>\n",
       "      <td>Weapon_Explosives</td>\n",
       "      <td>-0.019746</td>\n",
       "    </tr>\n",
       "    <tr>\n",
       "      <td>1</td>\n",
       "      <td>Month</td>\n",
       "      <td>-0.015283</td>\n",
       "    </tr>\n",
       "    <tr>\n",
       "      <td>2</td>\n",
       "      <td>Victim Age</td>\n",
       "      <td>-0.008050</td>\n",
       "    </tr>\n",
       "    <tr>\n",
       "      <td>0</td>\n",
       "      <td>Year</td>\n",
       "      <td>0.000173</td>\n",
       "    </tr>\n",
       "    <tr>\n",
       "      <td>31</td>\n",
       "      <td>Weapon_Handgun</td>\n",
       "      <td>0.005311</td>\n",
       "    </tr>\n",
       "  </tbody>\n",
       "</table>\n",
       "</div>"
      ],
      "text/plain": [
       "                               Feature     Coeff\n",
       "36                Weapon_Strangulation -0.790968\n",
       "38                      Weapon_Unknown -0.693656\n",
       "29                      Weapon_Firearm -0.616343\n",
       "20           Victim Ethnicity_Hispanic -0.311316\n",
       "18                 Victim Race_Unknown -0.276796\n",
       "5            Agency Type_County Police -0.262404\n",
       "28                         Weapon_Fire -0.237438\n",
       "6         Agency Type_Municipal Police -0.203830\n",
       "13                     Victim Sex_Male -0.186391\n",
       "30                          Weapon_Gun -0.181329\n",
       "16                   Victim Race_Black -0.076241\n",
       "14                  Victim Sex_Unknown -0.031866\n",
       "9           Agency Type_Special Police -0.022291\n",
       "15  Victim Race_Asian/Pacific Islander -0.019960\n",
       "37                  Weapon_Suffocation -0.019860\n",
       "26                   Weapon_Explosives -0.019746\n",
       "1                                Month -0.015283\n",
       "2                           Victim Age -0.008050\n",
       "0                                 Year  0.000173\n",
       "31                      Weapon_Handgun  0.005311"
      ]
     },
     "execution_count": 37,
     "metadata": {},
     "output_type": "execute_result"
    }
   ],
   "source": [
    "coefficients = pd.concat([pd.DataFrame(X_train.columns),pd.DataFrame(np.transpose(logistic_regression_model.coef_))], axis = 1)\n",
    "coefficients.columns=['Feature','Coeff']\n",
    "coefficients.sort_values(by='Coeff').head(20)"
   ]
  },
  {
   "cell_type": "code",
   "execution_count": 31,
   "metadata": {},
   "outputs": [
    {
     "data": {
      "text/html": [
       "<div>\n",
       "<style scoped>\n",
       "    .dataframe tbody tr th:only-of-type {\n",
       "        vertical-align: middle;\n",
       "    }\n",
       "\n",
       "    .dataframe tbody tr th {\n",
       "        vertical-align: top;\n",
       "    }\n",
       "\n",
       "    .dataframe thead th {\n",
       "        text-align: right;\n",
       "    }\n",
       "</style>\n",
       "<table border=\"1\" class=\"dataframe\">\n",
       "  <thead>\n",
       "    <tr style=\"text-align: right;\">\n",
       "      <th></th>\n",
       "      <th>Feature</th>\n",
       "      <th>Coeff</th>\n",
       "    </tr>\n",
       "  </thead>\n",
       "  <tbody>\n",
       "    <tr>\n",
       "      <td>4</td>\n",
       "      <td>rate</td>\n",
       "      <td>1.736964</td>\n",
       "    </tr>\n",
       "    <tr>\n",
       "      <td>86</td>\n",
       "      <td>Weapon_Shotgun</td>\n",
       "      <td>0.620678</td>\n",
       "    </tr>\n",
       "    <tr>\n",
       "      <td>85</td>\n",
       "      <td>Weapon_Rifle</td>\n",
       "      <td>0.569578</td>\n",
       "    </tr>\n",
       "    <tr>\n",
       "      <td>83</td>\n",
       "      <td>Weapon_Knife</td>\n",
       "      <td>0.538358</td>\n",
       "    </tr>\n",
       "    <tr>\n",
       "      <td>47</td>\n",
       "      <td>State_Tennessee</td>\n",
       "      <td>0.453484</td>\n",
       "    </tr>\n",
       "    <tr>\n",
       "      <td>45</td>\n",
       "      <td>State_South Carolina</td>\n",
       "      <td>0.427820</td>\n",
       "    </tr>\n",
       "    <tr>\n",
       "      <td>5</td>\n",
       "      <td>State_Alabama</td>\n",
       "      <td>0.309874</td>\n",
       "    </tr>\n",
       "    <tr>\n",
       "      <td>74</td>\n",
       "      <td>Weapon_Blunt Object</td>\n",
       "      <td>0.303256</td>\n",
       "    </tr>\n",
       "    <tr>\n",
       "      <td>29</td>\n",
       "      <td>State_Mississippi</td>\n",
       "      <td>0.203386</td>\n",
       "    </tr>\n",
       "    <tr>\n",
       "      <td>18</td>\n",
       "      <td>State_Illinois</td>\n",
       "      <td>0.188547</td>\n",
       "    </tr>\n",
       "    <tr>\n",
       "      <td>51</td>\n",
       "      <td>State_Virginia</td>\n",
       "      <td>0.183538</td>\n",
       "    </tr>\n",
       "    <tr>\n",
       "      <td>61</td>\n",
       "      <td>Agency Type_State Police</td>\n",
       "      <td>0.167574</td>\n",
       "    </tr>\n",
       "    <tr>\n",
       "      <td>70</td>\n",
       "      <td>Victim Race_White</td>\n",
       "      <td>0.165101</td>\n",
       "    </tr>\n",
       "    <tr>\n",
       "      <td>8</td>\n",
       "      <td>State_Arkansas</td>\n",
       "      <td>0.164249</td>\n",
       "    </tr>\n",
       "    <tr>\n",
       "      <td>63</td>\n",
       "      <td>Victim Sex_Female</td>\n",
       "      <td>0.157276</td>\n",
       "    </tr>\n",
       "    <tr>\n",
       "      <td>59</td>\n",
       "      <td>Agency Type_Sheriff</td>\n",
       "      <td>0.152880</td>\n",
       "    </tr>\n",
       "    <tr>\n",
       "      <td>54</td>\n",
       "      <td>State_Wisconsin</td>\n",
       "      <td>0.130926</td>\n",
       "    </tr>\n",
       "    <tr>\n",
       "      <td>38</td>\n",
       "      <td>State_North Carolina</td>\n",
       "      <td>0.126609</td>\n",
       "    </tr>\n",
       "    <tr>\n",
       "      <td>28</td>\n",
       "      <td>State_Minnesota</td>\n",
       "      <td>0.103754</td>\n",
       "    </tr>\n",
       "    <tr>\n",
       "      <td>53</td>\n",
       "      <td>State_West Virginia</td>\n",
       "      <td>0.097810</td>\n",
       "    </tr>\n",
       "    <tr>\n",
       "      <td>27</td>\n",
       "      <td>State_Michigan</td>\n",
       "      <td>0.095513</td>\n",
       "    </tr>\n",
       "    <tr>\n",
       "      <td>72</td>\n",
       "      <td>Victim Ethnicity_Not Hispanic</td>\n",
       "      <td>0.093119</td>\n",
       "    </tr>\n",
       "    <tr>\n",
       "      <td>3</td>\n",
       "      <td>Victim Count</td>\n",
       "      <td>0.090560</td>\n",
       "    </tr>\n",
       "    <tr>\n",
       "      <td>10</td>\n",
       "      <td>State_Colorado</td>\n",
       "      <td>0.084848</td>\n",
       "    </tr>\n",
       "    <tr>\n",
       "      <td>41</td>\n",
       "      <td>State_Oklahoma</td>\n",
       "      <td>0.084209</td>\n",
       "    </tr>\n",
       "  </tbody>\n",
       "</table>\n",
       "</div>"
      ],
      "text/plain": [
       "                          Feature     Coeff\n",
       "4                            rate  1.736964\n",
       "86                 Weapon_Shotgun  0.620678\n",
       "85                   Weapon_Rifle  0.569578\n",
       "83                   Weapon_Knife  0.538358\n",
       "47                State_Tennessee  0.453484\n",
       "45           State_South Carolina  0.427820\n",
       "5                   State_Alabama  0.309874\n",
       "74            Weapon_Blunt Object  0.303256\n",
       "29              State_Mississippi  0.203386\n",
       "18                 State_Illinois  0.188547\n",
       "51                 State_Virginia  0.183538\n",
       "61       Agency Type_State Police  0.167574\n",
       "70              Victim Race_White  0.165101\n",
       "8                  State_Arkansas  0.164249\n",
       "63              Victim Sex_Female  0.157276\n",
       "59            Agency Type_Sheriff  0.152880\n",
       "54                State_Wisconsin  0.130926\n",
       "38           State_North Carolina  0.126609\n",
       "28                State_Minnesota  0.103754\n",
       "53            State_West Virginia  0.097810\n",
       "27                 State_Michigan  0.095513\n",
       "72  Victim Ethnicity_Not Hispanic  0.093119\n",
       "3                    Victim Count  0.090560\n",
       "10                 State_Colorado  0.084848\n",
       "41                 State_Oklahoma  0.084209"
      ]
     },
     "execution_count": 31,
     "metadata": {},
     "output_type": "execute_result"
    }
   ],
   "source": [
    "coefficients.sort_values(by='Coeff',ascending=False).head(25)"
   ]
  },
  {
   "cell_type": "code",
   "execution_count": 33,
   "metadata": {},
   "outputs": [
    {
     "data": {
      "image/png": "[encoded data removed]",
      "text/plain": [
       "<Figure size 720x432 with 1 Axes>"
      ]
     },
     "metadata": {
      "needs_background": "light"
     },
     "output_type": "display_data"
    }
   ],
   "source": [
    "top_coeff=coefficients[abs(coefficients[\"Coeff\"])>0.25]\n",
    "bar_names=top_coeff['Feature']\n",
    "bar_heights=top_coeff['Coeff']\n",
    "bar_colors=np.where(bar_heights>0.0,'blue','red')\n",
    "\n",
    "plt.figure(figsize=(10,6))\n",
    "plt.barh(bar_names,bar_heights,color=bar_colors)\n",
    "plt.savefig('coeff');\n",
    "plt.show()"
   ]
  },
  {
   "cell_type": "markdown",
   "metadata": {},
   "source": [
    "#### Let us also fit a model without including state information and see what are the strong predictors"
   ]
  },
  {
   "cell_type": "code",
   "execution_count": null,
   "metadata": {},
   "outputs": [],
   "source": []
  },
  {
   "cell_type": "code",
   "execution_count": 51,
   "metadata": {},
   "outputs": [],
   "source": [
    "X=df[['Year', 'Month',\n",
    "      #'State',\n",
    "      'Agency Type',\n",
    "      'Victim Sex', 'Victim Age', 'Victim Race', 'Victim Count','Victim Ethnicity',\n",
    "     #'Perpetrator Sex', 'Perpetrator Age', 'Perpetrator Race','Perpetrator Ethnicity', 'Relationship', \n",
    "     'Weapon','rate']]\n",
    "X_dum=pd.get_dummies(X)\n",
    "y=df['Crime Solved']"
   ]
  },
  {
   "cell_type": "markdown",
   "metadata": {},
   "source": [
    "#### We will do the training and test split of 70:30."
   ]
  },
  {
   "cell_type": "code",
   "execution_count": 52,
   "metadata": {},
   "outputs": [],
   "source": [
    "X_train, X_test, y_train, y_test = train_test_split(X_dum, y, test_size=0.3, random_state=1\n",
    "                                                   )"
   ]
  },
  {
   "cell_type": "code",
   "execution_count": 53,
   "metadata": {},
   "outputs": [
    {
     "data": {
      "text/plain": [
       "(446235, 39)"
      ]
     },
     "execution_count": 53,
     "metadata": {},
     "output_type": "execute_result"
    }
   ],
   "source": [
    "X_train.shape"
   ]
  },
  {
   "cell_type": "markdown",
   "metadata": {},
   "source": [
    "Fitting a Logistic Regression"
   ]
  },
  {
   "cell_type": "code",
   "execution_count": 54,
   "metadata": {},
   "outputs": [
    {
     "name": "stdout",
     "output_type": "stream",
     "text": [
      "The score on the training set: 0.7081358477035643\n",
      "The score on the testing set: 0.7095072263705006\n"
     ]
    }
   ],
   "source": [
    "logistic_regression_model = LogisticRegression(C=1)\n",
    "logistic_regression_model.fit(X_train, y_train)\n",
    "y_pred = logistic_regression_model.predict(X_test)\n",
    "y_train_p=logistic_regression_model.predict(X_train)\n",
    "print(f'The score on the training set: {accuracy_score(y_train,y_train_p)}')\n",
    "print(f'The score on the testing set: {accuracy_score(y_test,y_pred)}')"
   ]
  },
  {
   "cell_type": "code",
   "execution_count": 55,
   "metadata": {},
   "outputs": [
    {
     "data": {
      "text/html": [
       "<div>\n",
       "<style scoped>\n",
       "    .dataframe tbody tr th:only-of-type {\n",
       "        vertical-align: middle;\n",
       "    }\n",
       "\n",
       "    .dataframe tbody tr th {\n",
       "        vertical-align: top;\n",
       "    }\n",
       "\n",
       "    .dataframe thead th {\n",
       "        text-align: right;\n",
       "    }\n",
       "</style>\n",
       "<table border=\"1\" class=\"dataframe\">\n",
       "  <thead>\n",
       "    <tr style=\"text-align: right;\">\n",
       "      <th></th>\n",
       "      <th>Feature</th>\n",
       "      <th>Coeff</th>\n",
       "    </tr>\n",
       "  </thead>\n",
       "  <tbody>\n",
       "    <tr>\n",
       "      <td>36</td>\n",
       "      <td>Weapon_Strangulation</td>\n",
       "      <td>-0.790968</td>\n",
       "    </tr>\n",
       "    <tr>\n",
       "      <td>38</td>\n",
       "      <td>Weapon_Unknown</td>\n",
       "      <td>-0.693656</td>\n",
       "    </tr>\n",
       "    <tr>\n",
       "      <td>29</td>\n",
       "      <td>Weapon_Firearm</td>\n",
       "      <td>-0.616343</td>\n",
       "    </tr>\n",
       "    <tr>\n",
       "      <td>20</td>\n",
       "      <td>Victim Ethnicity_Hispanic</td>\n",
       "      <td>-0.311316</td>\n",
       "    </tr>\n",
       "    <tr>\n",
       "      <td>18</td>\n",
       "      <td>Victim Race_Unknown</td>\n",
       "      <td>-0.276796</td>\n",
       "    </tr>\n",
       "    <tr>\n",
       "      <td>5</td>\n",
       "      <td>Agency Type_County Police</td>\n",
       "      <td>-0.262404</td>\n",
       "    </tr>\n",
       "    <tr>\n",
       "      <td>28</td>\n",
       "      <td>Weapon_Fire</td>\n",
       "      <td>-0.237438</td>\n",
       "    </tr>\n",
       "    <tr>\n",
       "      <td>6</td>\n",
       "      <td>Agency Type_Municipal Police</td>\n",
       "      <td>-0.203830</td>\n",
       "    </tr>\n",
       "    <tr>\n",
       "      <td>13</td>\n",
       "      <td>Victim Sex_Male</td>\n",
       "      <td>-0.186391</td>\n",
       "    </tr>\n",
       "    <tr>\n",
       "      <td>30</td>\n",
       "      <td>Weapon_Gun</td>\n",
       "      <td>-0.181329</td>\n",
       "    </tr>\n",
       "    <tr>\n",
       "      <td>16</td>\n",
       "      <td>Victim Race_Black</td>\n",
       "      <td>-0.076241</td>\n",
       "    </tr>\n",
       "    <tr>\n",
       "      <td>14</td>\n",
       "      <td>Victim Sex_Unknown</td>\n",
       "      <td>-0.031866</td>\n",
       "    </tr>\n",
       "    <tr>\n",
       "      <td>9</td>\n",
       "      <td>Agency Type_Special Police</td>\n",
       "      <td>-0.022291</td>\n",
       "    </tr>\n",
       "    <tr>\n",
       "      <td>15</td>\n",
       "      <td>Victim Race_Asian/Pacific Islander</td>\n",
       "      <td>-0.019960</td>\n",
       "    </tr>\n",
       "    <tr>\n",
       "      <td>37</td>\n",
       "      <td>Weapon_Suffocation</td>\n",
       "      <td>-0.019860</td>\n",
       "    </tr>\n",
       "    <tr>\n",
       "      <td>26</td>\n",
       "      <td>Weapon_Explosives</td>\n",
       "      <td>-0.019746</td>\n",
       "    </tr>\n",
       "    <tr>\n",
       "      <td>1</td>\n",
       "      <td>Month</td>\n",
       "      <td>-0.015283</td>\n",
       "    </tr>\n",
       "    <tr>\n",
       "      <td>2</td>\n",
       "      <td>Victim Age</td>\n",
       "      <td>-0.008050</td>\n",
       "    </tr>\n",
       "    <tr>\n",
       "      <td>0</td>\n",
       "      <td>Year</td>\n",
       "      <td>0.000173</td>\n",
       "    </tr>\n",
       "    <tr>\n",
       "      <td>31</td>\n",
       "      <td>Weapon_Handgun</td>\n",
       "      <td>0.005311</td>\n",
       "    </tr>\n",
       "  </tbody>\n",
       "</table>\n",
       "</div>"
      ],
      "text/plain": [
       "                               Feature     Coeff\n",
       "36                Weapon_Strangulation -0.790968\n",
       "38                      Weapon_Unknown -0.693656\n",
       "29                      Weapon_Firearm -0.616343\n",
       "20           Victim Ethnicity_Hispanic -0.311316\n",
       "18                 Victim Race_Unknown -0.276796\n",
       "5            Agency Type_County Police -0.262404\n",
       "28                         Weapon_Fire -0.237438\n",
       "6         Agency Type_Municipal Police -0.203830\n",
       "13                     Victim Sex_Male -0.186391\n",
       "30                          Weapon_Gun -0.181329\n",
       "16                   Victim Race_Black -0.076241\n",
       "14                  Victim Sex_Unknown -0.031866\n",
       "9           Agency Type_Special Police -0.022291\n",
       "15  Victim Race_Asian/Pacific Islander -0.019960\n",
       "37                  Weapon_Suffocation -0.019860\n",
       "26                   Weapon_Explosives -0.019746\n",
       "1                                Month -0.015283\n",
       "2                           Victim Age -0.008050\n",
       "0                                 Year  0.000173\n",
       "31                      Weapon_Handgun  0.005311"
      ]
     },
     "execution_count": 55,
     "metadata": {},
     "output_type": "execute_result"
    }
   ],
   "source": [
    "coefficients = pd.concat([pd.DataFrame(X_train.columns),pd.DataFrame(np.transpose(logistic_regression_model.coef_))], axis = 1)\n",
    "coefficients.columns=['Feature','Coeff']\n",
    "coefficients.sort_values(by='Coeff').head(20)"
   ]
  },
  {
   "cell_type": "code",
   "execution_count": 56,
   "metadata": {},
   "outputs": [
    {
     "data": {
      "text/html": [
       "<div>\n",
       "<style scoped>\n",
       "    .dataframe tbody tr th:only-of-type {\n",
       "        vertical-align: middle;\n",
       "    }\n",
       "\n",
       "    .dataframe tbody tr th {\n",
       "        vertical-align: top;\n",
       "    }\n",
       "\n",
       "    .dataframe thead th {\n",
       "        text-align: right;\n",
       "    }\n",
       "</style>\n",
       "<table border=\"1\" class=\"dataframe\">\n",
       "  <thead>\n",
       "    <tr style=\"text-align: right;\">\n",
       "      <th></th>\n",
       "      <th>Feature</th>\n",
       "      <th>Coeff</th>\n",
       "    </tr>\n",
       "  </thead>\n",
       "  <tbody>\n",
       "    <tr>\n",
       "      <td>4</td>\n",
       "      <td>rate</td>\n",
       "      <td>1.622258</td>\n",
       "    </tr>\n",
       "    <tr>\n",
       "      <td>34</td>\n",
       "      <td>Weapon_Rifle</td>\n",
       "      <td>0.816598</td>\n",
       "    </tr>\n",
       "    <tr>\n",
       "      <td>35</td>\n",
       "      <td>Weapon_Shotgun</td>\n",
       "      <td>0.787972</td>\n",
       "    </tr>\n",
       "    <tr>\n",
       "      <td>32</td>\n",
       "      <td>Weapon_Knife</td>\n",
       "      <td>0.456878</td>\n",
       "    </tr>\n",
       "    <tr>\n",
       "      <td>10</td>\n",
       "      <td>Agency Type_State Police</td>\n",
       "      <td>0.281287</td>\n",
       "    </tr>\n",
       "    <tr>\n",
       "      <td>19</td>\n",
       "      <td>Victim Race_White</td>\n",
       "      <td>0.233743</td>\n",
       "    </tr>\n",
       "    <tr>\n",
       "      <td>23</td>\n",
       "      <td>Weapon_Blunt Object</td>\n",
       "      <td>0.215124</td>\n",
       "    </tr>\n",
       "    <tr>\n",
       "      <td>12</td>\n",
       "      <td>Victim Sex_Female</td>\n",
       "      <td>0.182531</td>\n",
       "    </tr>\n",
       "    <tr>\n",
       "      <td>8</td>\n",
       "      <td>Agency Type_Sheriff</td>\n",
       "      <td>0.157874</td>\n",
       "    </tr>\n",
       "    <tr>\n",
       "      <td>22</td>\n",
       "      <td>Victim Ethnicity_Unknown</td>\n",
       "      <td>0.150525</td>\n",
       "    </tr>\n",
       "    <tr>\n",
       "      <td>25</td>\n",
       "      <td>Weapon_Drugs</td>\n",
       "      <td>0.146149</td>\n",
       "    </tr>\n",
       "    <tr>\n",
       "      <td>21</td>\n",
       "      <td>Victim Ethnicity_Not Hispanic</td>\n",
       "      <td>0.125065</td>\n",
       "    </tr>\n",
       "    <tr>\n",
       "      <td>17</td>\n",
       "      <td>Victim Race_Native American/Alaska Native</td>\n",
       "      <td>0.103527</td>\n",
       "    </tr>\n",
       "    <tr>\n",
       "      <td>3</td>\n",
       "      <td>Victim Count</td>\n",
       "      <td>0.087915</td>\n",
       "    </tr>\n",
       "    <tr>\n",
       "      <td>24</td>\n",
       "      <td>Weapon_Drowning</td>\n",
       "      <td>0.051353</td>\n",
       "    </tr>\n",
       "    <tr>\n",
       "      <td>33</td>\n",
       "      <td>Weapon_Poison</td>\n",
       "      <td>0.025714</td>\n",
       "    </tr>\n",
       "    <tr>\n",
       "      <td>27</td>\n",
       "      <td>Weapon_Fall</td>\n",
       "      <td>0.018515</td>\n",
       "    </tr>\n",
       "    <tr>\n",
       "      <td>11</td>\n",
       "      <td>Agency Type_Tribal Police</td>\n",
       "      <td>0.006921</td>\n",
       "    </tr>\n",
       "    <tr>\n",
       "      <td>7</td>\n",
       "      <td>Agency Type_Regional Police</td>\n",
       "      <td>0.006717</td>\n",
       "    </tr>\n",
       "    <tr>\n",
       "      <td>31</td>\n",
       "      <td>Weapon_Handgun</td>\n",
       "      <td>0.005311</td>\n",
       "    </tr>\n",
       "  </tbody>\n",
       "</table>\n",
       "</div>"
      ],
      "text/plain": [
       "                                      Feature     Coeff\n",
       "4                                        rate  1.622258\n",
       "34                               Weapon_Rifle  0.816598\n",
       "35                             Weapon_Shotgun  0.787972\n",
       "32                               Weapon_Knife  0.456878\n",
       "10                   Agency Type_State Police  0.281287\n",
       "19                          Victim Race_White  0.233743\n",
       "23                        Weapon_Blunt Object  0.215124\n",
       "12                          Victim Sex_Female  0.182531\n",
       "8                         Agency Type_Sheriff  0.157874\n",
       "22                   Victim Ethnicity_Unknown  0.150525\n",
       "25                               Weapon_Drugs  0.146149\n",
       "21              Victim Ethnicity_Not Hispanic  0.125065\n",
       "17  Victim Race_Native American/Alaska Native  0.103527\n",
       "3                                Victim Count  0.087915\n",
       "24                            Weapon_Drowning  0.051353\n",
       "33                              Weapon_Poison  0.025714\n",
       "27                                Weapon_Fall  0.018515\n",
       "11                  Agency Type_Tribal Police  0.006921\n",
       "7                 Agency Type_Regional Police  0.006717\n",
       "31                             Weapon_Handgun  0.005311"
      ]
     },
     "execution_count": 56,
     "metadata": {},
     "output_type": "execute_result"
    }
   ],
   "source": [
    "coefficients.sort_values(by='Coeff',ascending=False).head(20)"
   ]
  },
  {
   "cell_type": "code",
   "execution_count": 57,
   "metadata": {},
   "outputs": [
    {
     "data": {
      "image/png": "[encoded data removed]",
      "text/plain": [
       "<Figure size 720x432 with 1 Axes>"
      ]
     },
     "metadata": {
      "needs_background": "light"
     },
     "output_type": "display_data"
    }
   ],
   "source": [
    "top_coeff=coefficients[abs(coefficients[\"Coeff\"])>0.20]\n",
    "bar_names=top_coeff['Feature']\n",
    "bar_heights=top_coeff['Coeff']\n",
    "bar_colors=np.where(bar_heights>0.0,'blue','red')\n",
    "\n",
    "plt.figure(figsize=(10,6))\n",
    "plt.barh(bar_names,bar_heights,color=bar_colors)\n",
    "plt.savefig('coeff');\n",
    "plt.show()"
   ]
  },
  {
   "cell_type": "markdown",
   "metadata": {},
   "source": [
    "### Additional classification models ran \n",
    "- Boosting classifiers\n",
    "- Naive Bayes Classifiers\n",
    "- MLP Classifier"
   ]
  },
  {
   "cell_type": "code",
   "execution_count": 32,
   "metadata": {},
   "outputs": [
    {
     "name": "stdout",
     "output_type": "stream",
     "text": [
      "Test Set Scores:\n",
      "AdaBoost score: 0.7164569518425916\n",
      "GRadient score: 0.720479128166105\n"
     ]
    }
   ],
   "source": [
    "\n",
    "AB_model = AdaBoostClassifier()\n",
    "GB_model = GradientBoostingClassifier()\n",
    "\n",
    "AB_model.fit(X_train, y_train)\n",
    "GB_model.fit(X_train, y_train)\n",
    "\n",
    "print(\"Test Set Scores:\")\n",
    "print(f\"AdaBoost score: {AB_model.score(X_test, y_test)}\")\n",
    "print(f\"GRadient score: {GB_model.score(X_test, y_test)}\")"
   ]
  },
  {
   "cell_type": "code",
   "execution_count": 33,
   "metadata": {},
   "outputs": [
    {
     "name": "stdout",
     "output_type": "stream",
     "text": [
      "AdaBoost score: 0.7164471155526049\n",
      "GRadient score: 0.7205236614370406\n"
     ]
    }
   ],
   "source": [
    "print(f\"AdaBoost score: {AB_model.score(X_train, y_train)}\")\n",
    "print(f\"GRadient score: {GB_model.score(X_train, y_train)}\")"
   ]
  },
  {
   "cell_type": "code",
   "execution_count": 26,
   "metadata": {},
   "outputs": [
    {
     "name": "stdout",
     "output_type": "stream",
     "text": [
      "The score on the training set: 0.4731461730359015\n",
      "The score on the testing set: 0.4748183610844555\n",
      "score 0.4731461730359015\n"
     ]
    }
   ],
   "source": [
    "from sklearn.naive_bayes import GaussianNB, MultinomialNB, BernoulliNB\n",
    "Gnbmodel = GaussianNB()\n",
    "# Fit our model\n",
    "Gnbmodel.fit(X_train,y_train)\n",
    "y_pred_GB=Gnbmodel.predict(X_test)#get hard prediction\n",
    "y_t_pred=Gnbmodel.predict(X_train)\n",
    "print(f'The score on the training set: {accuracy_score(y_train,y_t_pred)}')\n",
    "print(f'The score on the testing set: {accuracy_score(y_test,y_pred_GB)}')\n",
    "print(\"score\",Gnbmodel.score(X_train,y_train))"
   ]
  },
  {
   "cell_type": "code",
   "execution_count": 16,
   "metadata": {},
   "outputs": [
    {
     "name": "stdout",
     "output_type": "stream",
     "text": [
      "Train Score:  0.734\n",
      "Test Score:  0.734\n"
     ]
    }
   ],
   "source": [
    "NN_model = MLPClassifier()\n",
    "NN_model.fit(X_train,y_train)\n",
    "\n",
    "print(f\"Train Score: {NN_model.score(X_train,y_train): 0.3f}\")\n",
    "print(f\"Test Score: {NN_model.score(X_test,y_test): 0.3f}\")"
   ]
  },
  {
   "cell_type": "code",
   "execution_count": null,
   "metadata": {},
   "outputs": [],
   "source": []
  },
  {
   "cell_type": "code",
   "execution_count": null,
   "metadata": {},
   "outputs": [],
   "source": []
  }
 ],
 "metadata": {
  "kernelspec": {
   "display_name": "Python 3",
   "language": "python",
   "name": "python3"
  },
  "language_info": {
   "codemirror_mode": {
    "name": "ipython",
    "version": 3
   },
   "file_extension": ".py",
   "mimetype": "text/x-python",
   "name": "python",
   "nbconvert_exporter": "python",
   "pygments_lexer": "ipython3",
   "version": "3.7.4"
  }
 },
 "nbformat": 4,
 "nbformat_minor": 4
}
